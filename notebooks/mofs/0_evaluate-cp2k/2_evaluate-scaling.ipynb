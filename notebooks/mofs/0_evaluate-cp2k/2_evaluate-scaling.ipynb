{
 "cells": [
  {
   "cell_type": "markdown",
   "id": "e12cc265-17d3-401a-8260-bfa561c69997",
   "metadata": {},
   "source": [
    "# Evaluate Scaling\n",
    "Evaluate the scaling behavior of CP2K on Polaris."
   ]
  },
  {
   "cell_type": "code",
   "execution_count": 1,
   "id": "423a4654-b59a-4438-ac59-7338ec186621",
   "metadata": {},
   "outputs": [],
   "source": [
    "%matplotlib inline\n",
    "from matplotlib import pyplot as plt\n",
    "from matplotlib import cm \n",
    "import pandas as pd\n",
    "import numpy as np"
   ]
  },
  {
   "cell_type": "markdown",
   "id": "8438122c-b8a9-4481-8e3e-6441ca422258",
   "metadata": {},
   "source": [
    "## Load the runtime data\n",
    "It's saved in a file named \"runtimes.json\""
   ]
  },
  {
   "cell_type": "code",
   "execution_count": 2,
   "id": "e641c39f-a249-4342-8e27-873e604b5b3f",
   "metadata": {},
   "outputs": [],
   "source": [
    "data = pd.read_json(\"runtimes.json\", lines=True)"
   ]
  },
  {
   "cell_type": "markdown",
   "id": "1722c210-ab05-4a49-93da-08d8f5a92b8a",
   "metadata": {},
   "source": [
    "Compute some derived quantities"
   ]
  },
  {
   "cell_type": "code",
   "execution_count": 3,
   "id": "3a35aa4c-8f10-419a-9498-83b5837b9877",
   "metadata": {},
   "outputs": [
    {
     "data": {
      "text/html": [
       "<div>\n",
       "<style scoped>\n",
       "    .dataframe tbody tr th:only-of-type {\n",
       "        vertical-align: middle;\n",
       "    }\n",
       "\n",
       "    .dataframe tbody tr th {\n",
       "        vertical-align: top;\n",
       "    }\n",
       "\n",
       "    .dataframe thead th {\n",
       "        text-align: right;\n",
       "    }\n",
       "</style>\n",
       "<table border=\"1\" class=\"dataframe\">\n",
       "  <thead>\n",
       "    <tr style=\"text-align: right;\">\n",
       "      <th></th>\n",
       "      <th>name</th>\n",
       "      <th>composition</th>\n",
       "      <th>n_atoms</th>\n",
       "      <th>n_electrons</th>\n",
       "      <th>num_nodes</th>\n",
       "      <th>run_type</th>\n",
       "      <th>max_steps</th>\n",
       "      <th>steps</th>\n",
       "      <th>run_time</th>\n",
       "      <th>hostname</th>\n",
       "      <th>node-hrs</th>\n",
       "    </tr>\n",
       "  </thead>\n",
       "  <tbody>\n",
       "    <tr>\n",
       "      <th>29</th>\n",
       "      <td>qmof-918ced2</td>\n",
       "      <td>C172H216Cd4N16O36</td>\n",
       "      <td>444</td>\n",
       "      <td>1248</td>\n",
       "      <td>8</td>\n",
       "      <td>md</td>\n",
       "      <td>4</td>\n",
       "      <td>5</td>\n",
       "      <td>127.891003</td>\n",
       "      <td>polaris-login</td>\n",
       "      <td>0.284202</td>\n",
       "    </tr>\n",
       "    <tr>\n",
       "      <th>30</th>\n",
       "      <td>qmof-40f119f</td>\n",
       "      <td>C6H4CuN4S2</td>\n",
       "      <td>17</td>\n",
       "      <td>71</td>\n",
       "      <td>8</td>\n",
       "      <td>md</td>\n",
       "      <td>1</td>\n",
       "      <td>2</td>\n",
       "      <td>36.079826</td>\n",
       "      <td>polaris-login</td>\n",
       "      <td>0.080177</td>\n",
       "    </tr>\n",
       "    <tr>\n",
       "      <th>31</th>\n",
       "      <td>qmof-bd41929</td>\n",
       "      <td>C40H28CuN4O8</td>\n",
       "      <td>81</td>\n",
       "      <td>267</td>\n",
       "      <td>8</td>\n",
       "      <td>md</td>\n",
       "      <td>1</td>\n",
       "      <td>2</td>\n",
       "      <td>57.761641</td>\n",
       "      <td>polaris-login</td>\n",
       "      <td>0.128359</td>\n",
       "    </tr>\n",
       "    <tr>\n",
       "      <th>32</th>\n",
       "      <td>qmof-5f57dd4</td>\n",
       "      <td>C56H52Cd3N10O18S6</td>\n",
       "      <td>145</td>\n",
       "      <td>506</td>\n",
       "      <td>8</td>\n",
       "      <td>md</td>\n",
       "      <td>1</td>\n",
       "      <td>2</td>\n",
       "      <td>55.650357</td>\n",
       "      <td>polaris-login</td>\n",
       "      <td>0.123667</td>\n",
       "    </tr>\n",
       "    <tr>\n",
       "      <th>33</th>\n",
       "      <td>qmof-2102beb</td>\n",
       "      <td>C72H84N16O34Zn8</td>\n",
       "      <td>214</td>\n",
       "      <td>752</td>\n",
       "      <td>8</td>\n",
       "      <td>md</td>\n",
       "      <td>1</td>\n",
       "      <td>2</td>\n",
       "      <td>76.688634</td>\n",
       "      <td>polaris-login</td>\n",
       "      <td>0.170419</td>\n",
       "    </tr>\n",
       "  </tbody>\n",
       "</table>\n",
       "</div>"
      ],
      "text/plain": [
       "            name        composition  n_atoms  n_electrons  num_nodes run_type  \\\n",
       "29  qmof-918ced2  C172H216Cd4N16O36      444         1248          8       md   \n",
       "30  qmof-40f119f         C6H4CuN4S2       17           71          8       md   \n",
       "31  qmof-bd41929       C40H28CuN4O8       81          267          8       md   \n",
       "32  qmof-5f57dd4  C56H52Cd3N10O18S6      145          506          8       md   \n",
       "33  qmof-2102beb    C72H84N16O34Zn8      214          752          8       md   \n",
       "\n",
       "    max_steps  steps    run_time       hostname  node-hrs  \n",
       "29          4      5  127.891003  polaris-login  0.284202  \n",
       "30          1      2   36.079826  polaris-login  0.080177  \n",
       "31          1      2   57.761641  polaris-login  0.128359  \n",
       "32          1      2   55.650357  polaris-login  0.123667  \n",
       "33          1      2   76.688634  polaris-login  0.170419  "
      ]
     },
     "execution_count": 3,
     "metadata": {},
     "output_type": "execute_result"
    }
   ],
   "source": [
    "data['node-hrs'] = data['num_nodes'] * data['run_time'] / 3600\n",
    "data.tail()"
   ]
  },
  {
   "cell_type": "markdown",
   "id": "9bbf11b1-cab3-4a43-8343-1b08403df91c",
   "metadata": {},
   "source": [
    "## Plot Runtime vs Electron Count\n",
    "Determine whether CP2K is indeed operating like a linear-scaling DFT code"
   ]
  },
  {
   "cell_type": "code",
   "execution_count": 4,
   "id": "6ecdfd7d-4274-4ee0-9a26-4166e6361d99",
   "metadata": {},
   "outputs": [],
   "source": [
    "single_node_md = data.query(\"num_nodes==1 and max_steps==4 and run_type=='md'\")"
   ]
  },
  {
   "cell_type": "code",
   "execution_count": 5,
   "id": "15d73d48-cd50-4059-a7c0-284ebae056d6",
   "metadata": {},
   "outputs": [
    {
     "data": {
      "image/png": "[encoded data removed]",
      "text/plain": [
       "<Figure size 350x250 with 1 Axes>"
      ]
     },
     "metadata": {},
     "output_type": "display_data"
    }
   ],
   "source": [
    "fig, ax = plt.subplots(figsize=(3.5, 2.5))\n",
    "\n",
    "ax.plot(single_node_md['n_electrons'], single_node_md['run_time'] / single_node_md['steps'], '--o')\n",
    "\n",
    "ax.set_xlabel('Electron Count')\n",
    "ax.set_ylabel('Runtime / MD Step (s)')\n",
    "fig.tight_layout()\n",
    "fig.savefig('figures/runtime-vs-electron-count.pdf')\n",
    "fig.savefig('figures/runtime-vs-electron-count.png', dpi=320)"
   ]
  },
  {
   "cell_type": "markdown",
   "id": "a80d1853-2db8-4a1e-8d9d-bb882521954e",
   "metadata": {},
   "source": [
    "With exceptions, we get mostly linear scaling. Not sure what's up with the 1000-electron example"
   ]
  },
  {
   "cell_type": "markdown",
   "id": "dfd5c44a-cdc7-418b-b778-40d2605f34a5",
   "metadata": {},
   "source": [
    "## Plot the Time to Convergence for Relaxation\n",
    "Get an idea how long it takes to converge a structural relaxation, starting from the VASP structure."
   ]
  },
  {
   "cell_type": "code",
   "execution_count": 6,
   "id": "c92c82f1-76e2-4c7f-8cbe-ac93bd7f00bd",
   "metadata": {},
   "outputs": [],
   "source": [
    "single_node_qn = data.query(\"num_nodes==2 and run_type=='qn'\")"
   ]
  },
  {
   "cell_type": "code",
   "execution_count": 7,
   "id": "147fc359-8e8a-44c8-a4bf-4965506b4fe2",
   "metadata": {},
   "outputs": [
    {
     "data": {
      "image/png": "[encoded data removed]",
      "text/plain": [
       "<Figure size 350x250 with 1 Axes>"
      ]
     },
     "metadata": {},
     "output_type": "display_data"
    }
   ],
   "source": [
    "fig, ax = plt.subplots(figsize=(3.5, 2.5))\n",
    "\n",
    "ax.plot(single_node_qn['n_atoms'], single_node_qn['run_time'], '--o')\n",
    "\n",
    "ax.set_xlabel('Atom Count')\n",
    "ax.set_ylabel('Runtime (s)')\n",
    "fig.tight_layout()\n",
    "fig.savefig('figures/relaxtion-runtime.pdf')\n",
    "fig.savefig('figures/relaxtion-runtime.png', dpi=320)"
   ]
  },
  {
   "cell_type": "markdown",
   "id": "6936e064-12eb-41eb-bde1-56adbe01a0fb",
   "metadata": {},
   "source": [
    "## Determine Scaling Efficiency\n",
    "Show the speedup as a function of number of nodes"
   ]
  },
  {
   "cell_type": "code",
   "execution_count": 8,
   "id": "a3389212-64ac-4240-ad89-b185f96ede11",
   "metadata": {},
   "outputs": [
    {
     "data": {
      "text/html": [
       "<div>\n",
       "<style scoped>\n",
       "    .dataframe tbody tr th:only-of-type {\n",
       "        vertical-align: middle;\n",
       "    }\n",
       "\n",
       "    .dataframe tbody tr th {\n",
       "        vertical-align: top;\n",
       "    }\n",
       "\n",
       "    .dataframe thead th {\n",
       "        text-align: right;\n",
       "    }\n",
       "</style>\n",
       "<table border=\"1\" class=\"dataframe\">\n",
       "  <thead>\n",
       "    <tr style=\"text-align: right;\">\n",
       "      <th></th>\n",
       "      <th>name</th>\n",
       "      <th>composition</th>\n",
       "      <th>n_atoms</th>\n",
       "      <th>n_electrons</th>\n",
       "      <th>num_nodes</th>\n",
       "      <th>run_type</th>\n",
       "      <th>max_steps</th>\n",
       "      <th>steps</th>\n",
       "      <th>run_time</th>\n",
       "      <th>hostname</th>\n",
       "      <th>node-hrs</th>\n",
       "      <th>node-hrs_single</th>\n",
       "      <th>run_time_single</th>\n",
       "    </tr>\n",
       "  </thead>\n",
       "  <tbody>\n",
       "    <tr>\n",
       "      <th>0</th>\n",
       "      <td>qmof-40f119f</td>\n",
       "      <td>C6H4CuN4S2</td>\n",
       "      <td>17</td>\n",
       "      <td>71</td>\n",
       "      <td>1</td>\n",
       "      <td>md</td>\n",
       "      <td>4</td>\n",
       "      <td>5</td>\n",
       "      <td>58.415346</td>\n",
       "      <td>polaris-login</td>\n",
       "      <td>0.016226</td>\n",
       "      <td>0.016226</td>\n",
       "      <td>58.415346</td>\n",
       "    </tr>\n",
       "    <tr>\n",
       "      <th>1</th>\n",
       "      <td>qmof-40f119f</td>\n",
       "      <td>C6H4CuN4S2</td>\n",
       "      <td>17</td>\n",
       "      <td>71</td>\n",
       "      <td>2</td>\n",
       "      <td>md</td>\n",
       "      <td>4</td>\n",
       "      <td>5</td>\n",
       "      <td>47.826400</td>\n",
       "      <td>polaris-login</td>\n",
       "      <td>0.026570</td>\n",
       "      <td>0.016226</td>\n",
       "      <td>58.415346</td>\n",
       "    </tr>\n",
       "    <tr>\n",
       "      <th>2</th>\n",
       "      <td>qmof-40f119f</td>\n",
       "      <td>C6H4CuN4S2</td>\n",
       "      <td>17</td>\n",
       "      <td>71</td>\n",
       "      <td>4</td>\n",
       "      <td>md</td>\n",
       "      <td>4</td>\n",
       "      <td>5</td>\n",
       "      <td>43.880473</td>\n",
       "      <td>polaris-login</td>\n",
       "      <td>0.048756</td>\n",
       "      <td>0.016226</td>\n",
       "      <td>58.415346</td>\n",
       "    </tr>\n",
       "    <tr>\n",
       "      <th>3</th>\n",
       "      <td>qmof-40f119f</td>\n",
       "      <td>C6H4CuN4S2</td>\n",
       "      <td>17</td>\n",
       "      <td>71</td>\n",
       "      <td>8</td>\n",
       "      <td>md</td>\n",
       "      <td>4</td>\n",
       "      <td>5</td>\n",
       "      <td>51.989437</td>\n",
       "      <td>polaris-login</td>\n",
       "      <td>0.115532</td>\n",
       "      <td>0.016226</td>\n",
       "      <td>58.415346</td>\n",
       "    </tr>\n",
       "    <tr>\n",
       "      <th>4</th>\n",
       "      <td>qmof-bd41929</td>\n",
       "      <td>C40H28CuN4O8</td>\n",
       "      <td>81</td>\n",
       "      <td>267</td>\n",
       "      <td>1</td>\n",
       "      <td>md</td>\n",
       "      <td>4</td>\n",
       "      <td>5</td>\n",
       "      <td>170.298485</td>\n",
       "      <td>polaris-login</td>\n",
       "      <td>0.047305</td>\n",
       "      <td>0.047305</td>\n",
       "      <td>170.298485</td>\n",
       "    </tr>\n",
       "  </tbody>\n",
       "</table>\n",
       "</div>"
      ],
      "text/plain": [
       "           name   composition  n_atoms  n_electrons  num_nodes run_type  \\\n",
       "0  qmof-40f119f    C6H4CuN4S2       17           71          1       md   \n",
       "1  qmof-40f119f    C6H4CuN4S2       17           71          2       md   \n",
       "2  qmof-40f119f    C6H4CuN4S2       17           71          4       md   \n",
       "3  qmof-40f119f    C6H4CuN4S2       17           71          8       md   \n",
       "4  qmof-bd41929  C40H28CuN4O8       81          267          1       md   \n",
       "\n",
       "   max_steps  steps    run_time       hostname  node-hrs  node-hrs_single  \\\n",
       "0          4      5   58.415346  polaris-login  0.016226         0.016226   \n",
       "1          4      5   47.826400  polaris-login  0.026570         0.016226   \n",
       "2          4      5   43.880473  polaris-login  0.048756         0.016226   \n",
       "3          4      5   51.989437  polaris-login  0.115532         0.016226   \n",
       "4          4      5  170.298485  polaris-login  0.047305         0.047305   \n",
       "\n",
       "   run_time_single  \n",
       "0        58.415346  \n",
       "1        58.415346  \n",
       "2        58.415346  \n",
       "3        58.415346  \n",
       "4       170.298485  "
      ]
     },
     "execution_count": 8,
     "metadata": {},
     "output_type": "execute_result"
    }
   ],
   "source": [
    "scaling = data.query('run_type==\"md\" and max_steps==4')\n",
    "scaling = scaling.merge(single_node_md[['name', 'node-hrs', 'run_time']], on='name', suffixes=('', '_single'))\n",
    "scaling.head()"
   ]
  },
  {
   "cell_type": "code",
   "execution_count": 9,
   "id": "115506ad-f95b-4741-be6a-61598be0a313",
   "metadata": {},
   "outputs": [],
   "source": [
    "scaling['efficiency'] = scaling['node-hrs_single'] / scaling['node-hrs']"
   ]
  },
  {
   "cell_type": "code",
   "execution_count": 11,
   "id": "9af6df76-a4eb-4573-a610-de8361c94756",
   "metadata": {},
   "outputs": [
    {
     "data": {
      "image/png": "[encoded data removed]",
      "text/plain": [
       "<Figure size 350x200 with 2 Axes>"
      ]
     },
     "metadata": {},
     "output_type": "display_data"
    }
   ],
   "source": [
    "fig, ax = plt.subplots(figsize=(3.5, 2.))\n",
    "\n",
    "cmap = cm.get_cmap('viridis_r')\n",
    "vmin, vmax = 1, scaling['n_electrons'].max()\n",
    "\n",
    "# Loop over sizes of water clusters\n",
    "for size, group in scaling.groupby('n_electrons'):\n",
    "    # Get the average efficiency for each node count\n",
    "    mean_subset = group.groupby('num_nodes').mean(numeric_only=True)\n",
    "\n",
    "    # Determine color based on numebr of molecules\n",
    "    color = cmap((size - vmin) / (vmax - vmin))\n",
    "    ax.plot(mean_subset.index, mean_subset['efficiency'] * 100, '--o', c=color)\n",
    "\n",
    "ax.set_xscale('log', base=2)\n",
    "    \n",
    "# Make a line at 100%\n",
    "ax.set_ylim(ax.get_ylim())\n",
    "ax.set_xlim(ax.get_xlim())\n",
    "\n",
    "ax.plot(ax.get_xlim(), [100]*2, 'k--', lw=1)\n",
    "\n",
    "# Make a 'fail' line\n",
    "x = np.logspace(*np.log10(ax.get_xlim()), 128)\n",
    "ax.plot(x, 100./x, 'b:', lw=0.5)\n",
    "\n",
    "# Make a colorbar\n",
    "l = ax.scatter([], [], c=[], cmap=cmap, vmin=vmin, vmax=vmax)\n",
    "fig.colorbar(l, label='$N_e$')\n",
    "\n",
    "ax.set_xlabel('Nodes')\n",
    "ax.set_ylabel('Efficiency (%)')\n",
    "ax.set_title('CP2K Scaling Efficiency on Polaris', fontsize=10)\n",
    "\n",
    "fig.tight_layout()\n",
    "fig.savefig('figures/md-scaling-efficiency.png', dpi=320)"
   ]
  },
  {
   "cell_type": "code",
   "execution_count": null,
   "id": "4393c6c3-caa9-4dca-91c7-c7a719368d2c",
   "metadata": {},
   "outputs": [],
   "source": []
  }
 ],
 "metadata": {
  "kernelspec": {
   "display_name": "fff",
   "language": "python",
   "name": "fff"
  },
  "language_info": {
   "codemirror_mode": {
    "name": "ipython",
    "version": 3
   },
   "file_extension": ".py",
   "mimetype": "text/x-python",
   "name": "python",
   "nbconvert_exporter": "python",
   "pygments_lexer": "ipython3",
   "version": "3.10.9"
  }
 },
 "nbformat": 4,
 "nbformat_minor": 5
}
