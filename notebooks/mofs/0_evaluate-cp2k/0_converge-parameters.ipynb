{
 "cells": [
  {
   "cell_type": "markdown",
   "id": "1bf74478-4808-41b9-a46d-6aaeef8bbeb3",
   "metadata": {},
   "source": [
    "# Converge Parameters\n",
    "We want to find the minimum cutoff energy and buffer around the molecule."
   ]
  },
  {
   "cell_type": "code",
   "execution_count": 1,
   "id": "ff4e33a7-2ba4-4254-856c-568fa34d861c",
   "metadata": {},
   "outputs": [],
   "source": [
    "%matplotlib inline\n",
    "from matplotlib import pyplot as plt\n",
    "from fff.simulation.utils import read_from_string\n",
    "from ase.calculators.cp2k import CP2K\n",
    "from tempfile import TemporaryDirectory\n",
    "from contextlib import redirect_stderr\n",
    "from time import perf_counter\n",
    "from zipfile import ZipFile\n",
    "from pathlib import Path\n",
    "from ase.io import read\n",
    "from ase import units\n",
    "from io import StringIO\n",
    "from tqdm import tqdm\n",
    "import pandas as pd\n",
    "import numpy as np\n",
    "import shutil\n",
    "import json\n",
    "import os"
   ]
  },
  {
   "cell_type": "markdown",
   "id": "120aeb8d-1158-4a66-a5b5-a16c1454a8fb",
   "metadata": {},
   "source": [
    "Configuration"
   ]
  },
  {
   "cell_type": "code",
   "execution_count": 2,
   "id": "5a55f149-498f-4754-a720-83fbbbd84f51",
   "metadata": {},
   "outputs": [],
   "source": [
    "basis_set = 'DZVP-MOLOPT-SR-GTH'\n",
    "file_ind = 0\n",
    "rel_cutoff = 60\n",
    "xc = 'PBE'\n",
    "results_file = Path('convergence-results.json')"
   ]
  },
  {
   "cell_type": "markdown",
   "id": "ad8150b7-fdb5-414f-9ec4-3b47c05a95be",
   "metadata": {},
   "source": [
    "## Get Example MOFs\n",
    "We'll test on something with our atom that has the most valence electrons, S."
   ]
  },
  {
   "cell_type": "code",
   "execution_count": 3,
   "id": "dda8b206-2d7f-4671-8c0e-7db7830652af",
   "metadata": {},
   "outputs": [],
   "source": [
    "qmof = ZipFile('../data/qmof_database/relaxed_structures.zip')"
   ]
  },
  {
   "cell_type": "code",
   "execution_count": 4,
   "id": "b0031ddf-42be-48be-9292-c1c3c6567e7c",
   "metadata": {},
   "outputs": [
    {
     "data": {
      "text/plain": [
       "<ZipInfo filename='relaxed_structures/qmof-0000295.cif' compress_type=deflate external_attr=0x20 file_size=11631 compress_size=4291>"
      ]
     },
     "execution_count": 4,
     "metadata": {},
     "output_type": "execute_result"
    }
   ],
   "source": [
    "file = qmof.filelist[file_ind]\n",
    "file"
   ]
  },
  {
   "cell_type": "code",
   "execution_count": 5,
   "id": "ce5b90f2-ace1-42ee-837f-f2a8a577707f",
   "metadata": {},
   "outputs": [
    {
     "data": {
      "text/plain": [
       "Atoms(symbols='Cu2H24C14N4O6', pbc=True, cell=[[5.27030822, 0.0, 0.0], [0.0012172647212817386, 9.30760668040202, 0.0], [-0.30703520854223243, -4.651958523961885, 9.429324401290108]], spacegroup_kinds=...)"
      ]
     },
     "execution_count": 5,
     "metadata": {},
     "output_type": "execute_result"
    }
   ],
   "source": [
    "atoms = read_from_string(qmof.read(file).decode(), 'cif')\n",
    "atoms"
   ]
  },
  {
   "cell_type": "markdown",
   "id": "6a6ad781-8d41-4c11-acc0-76a3343a70a0",
   "metadata": {},
   "source": [
    "CP2K requires us to define a cell even for non-periodic systems"
   ]
  },
  {
   "cell_type": "markdown",
   "id": "754a2771-57c4-4776-af8e-878112b14f73",
   "metadata": {},
   "source": [
    "## Evalute the effect of convergence of buffer size and cutoff\n",
    "These should be all we need to converge"
   ]
  },
  {
   "cell_type": "code",
   "execution_count": 6,
   "id": "0e0cf6fd-dd45-4d6c-93e3-50c44353aa6a",
   "metadata": {},
   "outputs": [],
   "source": [
    "shutil.rmtree('conv', ignore_errors=True)"
   ]
  },
  {
   "cell_type": "code",
   "execution_count": 7,
   "id": "2fea7a26-6bf9-43eb-a225-a9f89723109b",
   "metadata": {},
   "outputs": [],
   "source": [
    "cp2k_opts = dict(\n",
    "    inp=f\"\"\"&FORCE_EVAL\n",
    "&DFT\n",
    "  &XC\n",
    "     &XC_FUNCTIONAL \n",
    "         &{xc}\n",
    "         &END {xc}\n",
    "     &END XC_FUNCTIONAL\n",
    "     &vdW_POTENTIAL\n",
    "        DISPERSION_FUNCTIONAL PAIR_POTENTIAL\n",
    "        &PAIR_POTENTIAL\n",
    "            TYPE DFTD3(BJ)\n",
    "            PARAMETER_FILE_NAME dftd3.dat\n",
    "            REFERENCE_FUNCTIONAL PBE\n",
    "        &END PAIR_POTENTIAL\n",
    "    &END vdW_POTENTIAL\n",
    "  &END XC\n",
    "  &SCF\n",
    "    MAX_DIIS  8\n",
    "    EPS_SCF  1.0E-06\n",
    "    &OT\n",
    "      MINIMIZER  CG\n",
    "      PRECONDITIONER  FULL_SINGLE_INVERSE\n",
    "    &END OT\n",
    "    &OUTER_SCF  T\n",
    "      MAX_SCF  25\n",
    "      EPS_SCF  1.0E-06\n",
    "    &END OUTER_SCF\n",
    "  &END SCF\n",
    "  &MGRID\n",
    "    ! CUTOFF 600\n",
    "    REL_CUTOFF [Ry] {rel_cutoff}\n",
    "    COMMENSURATE TRUE\n",
    "    NGRIDS 5\n",
    "  &END MGRID\n",
    "&END DFT\n",
    "&END FORCE_EVAL\"\"\",\n",
    "    basis_set_file='BASIS_MOLOPT',\n",
    "    basis_set=basis_set,\n",
    "    pseudo_potential='GTH-PBE',\n",
    ")  # Use BLYP as we have PPs for it\n",
    "calc = CP2K(directory='conv', uks=True, xc=None,\n",
    "            print_level='medium',\n",
    "            command='/home/lward/Software/cp2k-2022.2/exe/local_cuda/cp2k_shell.ssmp',\n",
    "            **cp2k_opts)"
   ]
  },
  {
   "cell_type": "code",
   "execution_count": 8,
   "id": "0faf9bda-d4ad-484c-9615-05ef6e542774",
   "metadata": {},
   "outputs": [
    {
     "name": "stdout",
     "output_type": "stream",
     "text": [
      "Testing 12 energies\n"
     ]
    }
   ],
   "source": [
    "cutoffs = np.arange(400, 1500.1, 100)\n",
    "print(f'Testing {len(cutoffs)} energies')"
   ]
  },
  {
   "cell_type": "markdown",
   "id": "96f21145-a50e-4087-8447-0d7b499ae991",
   "metadata": {},
   "source": [
    "Test many cutoff energies"
   ]
  },
  {
   "cell_type": "code",
   "execution_count": 9,
   "id": "300c57c9-079f-4a8e-ab95-464d1e5e677b",
   "metadata": {},
   "outputs": [],
   "source": [
    "previous = {}  # (file_ind, basis, cutoff) -> {'energy': ..., 'forces': ...}\n",
    "if results_file.is_file():\n",
    "    with results_file.open() as fp:\n",
    "        for l in fp:\n",
    "            record = json.loads(l)\n",
    "            previous[(record.pop('file_ind'), record.pop('xc', 'PBE'), record.pop('basis'), record.pop('cutoff'), record.pop('rel_cutoff', 60))] = record "
   ]
  },
  {
   "cell_type": "code",
   "execution_count": null,
   "id": "6765ba4f-927a-42f4-a9a6-fb45f610e130",
   "metadata": {},
   "outputs": [
    {
     "name": "stderr",
     "output_type": "stream",
     "text": [
      " 17%|████████████████████████████████████████▌                                                                                                                                                                                                          | 2/12 [21:59<1:52:53, 677.40s/it]"
     ]
    }
   ],
   "source": [
    "forces = []\n",
    "energy = []\n",
    "for cutoff in tqdm(cutoffs):\n",
    "    if (result := previous.get((file_ind, xc, basis_set, cutoff, rel_cutoff), None)) is None:\n",
    "        # Run if it isn't done yet\n",
    "        calc.set(cutoff=cutoff * units.Ry)\n",
    "        start_time = perf_counter()\n",
    "        my_forces = calc.get_forces(atoms)\n",
    "        my_energy = calc.get_potential_energy(atoms)\n",
    "        my_stress = calc.get_stress(atoms)\n",
    "        run_time = perf_counter() - start_time\n",
    "        \n",
    "        # Write to disk\n",
    "        with results_file.open('a') as fp:\n",
    "            print(json.dumps({\n",
    "                'file_ind': file_ind,\n",
    "                'xc': xc,\n",
    "                'basis': basis_set,\n",
    "                'cutoff': cutoff,\n",
    "                'rel_cutoff': rel_cutoff,\n",
    "                'energy': my_energy,\n",
    "                'forces': my_forces.tolist(),\n",
    "                'stress': my_stress.tolist(),\n",
    "                'num_atoms': len(atoms),\n",
    "                'runtime': run_time,\n",
    "            }), file=fp)\n",
    "    else:\n",
    "        my_forces = np.array(result['forces'])\n",
    "        my_energy = result['energy']\n",
    "        \n",
    "    forces.append(my_forces)\n",
    "    energy.append(my_energy)"
   ]
  },
  {
   "cell_type": "code",
   "execution_count": null,
   "id": "92ac9f12-d3e4-4615-9fd1-f2c6ddf8f2a7",
   "metadata": {},
   "outputs": [],
   "source": [
    "fig, ax = plt.subplots(figsize=(3.5, 2.5))\n",
    "\n",
    "rmse = [np.sqrt(np.power(f - forces[-1], 2).mean()) for f in forces]\n",
    "ax.semilogy(cutoffs[:-1], rmse[:-1], '--o')\n",
    "\n",
    "ax.set_xlim(ax.get_xlim())\n",
    "ax.plot(ax.get_xlim(), [0.001] * 2, 'k--')\n",
    "\n",
    "ax.set_xlabel('Cutoff (Ry)')\n",
    "ax.set_ylabel('RMSE (eV/$\\\\AA$)')\n",
    "fig.tight_layout()"
   ]
  },
  {
   "cell_type": "code",
   "execution_count": null,
   "id": "f5969512-7464-47b3-9d6a-0033423302af",
   "metadata": {},
   "outputs": [],
   "source": [
    "fig, ax = plt.subplots(figsize=(3.5, 2.5))\n",
    "\n",
    "ax.plot(cutoffs, np.subtract(energy, energy[-1]), '--o')\n",
    "\n",
    "ax.set_xlim(ax.get_xlim())\n",
    "ax.plot(ax.get_xlim(), [1e-3]*2, 'k--', lw=1)\n",
    "ax.plot(ax.get_xlim(), [-1e-3]*2, 'k--', lw=1)\n",
    "\n",
    "ax.set_yscale('symlog', linthresh=1e-3)\n",
    "\n",
    "ax.set_xlabel('Cutoff (Ry)')\n",
    "ax.set_ylabel('Energy Diff. (eV)')\n",
    "fig.tight_layout()"
   ]
  },
  {
   "cell_type": "markdown",
   "id": "00389229-ba55-4db0-ab73-f2e318649963",
   "metadata": {},
   "source": [
    "Results from a few different tests. The goal is to converge forces within 0.001 meV/A, or - at least - \n",
    "\n",
    "| MOF v, Basis > | HSE/DZVP | PBE/DZVP | \n",
    "|----------------|-----|------|\n",
    "| 0 (Cu2H24C14N4O6) | >1000    | <700 |\n",
    "| 1 (C36H28Br4CoN8O4) | | 700 |\n",
    "| *Maximum*      |     | 1000  |\n",
    "\n",
    "TODO:\n",
    "- Convert the REL_CUTOFF. I just picked a \"large value\" and what was used in [this paper](https://www.nature.com/articles/s41524-023-00969-x)\n",
    "- Use TZVP basis set (as in [this paper](https://www.nature.com/articles/s41524-023-00969-x)), which will require using basis sets from different files"
   ]
  },
  {
   "cell_type": "code",
   "execution_count": null,
   "id": "20fcb552-08cb-4188-9a1f-c58df6151152",
   "metadata": {},
   "outputs": [],
   "source": []
  }
 ],
 "metadata": {
  "kernelspec": {
   "display_name": "Python 3 (ipykernel)",
   "language": "python",
   "name": "python3"
  },
  "language_info": {
   "codemirror_mode": {
    "name": "ipython",
    "version": 3
   },
   "file_extension": ".py",
   "mimetype": "text/x-python",
   "name": "python",
   "nbconvert_exporter": "python",
   "pygments_lexer": "ipython3",
   "version": "3.10.8"
  }
 },
 "nbformat": 4,
 "nbformat_minor": 5
}
