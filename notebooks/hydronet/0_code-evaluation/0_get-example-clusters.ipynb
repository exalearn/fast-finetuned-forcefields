{
 "cells": [
  {
   "cell_type": "markdown",
   "id": "9deba6b5-210b-40c0-bd1c-ab47b1ef3f48",
   "metadata": {},
   "source": [
    "**WARNING**: This is a legacy notebook from another project and was kept to record how the examples were colelcted, but is not runnable.\n",
    "\n",
    "# Download the latest copy of the dataset\n",
    "Get the latest copy of the data from MongoDB. "
   ]
  },
  {
   "cell_type": "code",
   "execution_count": 1,
   "id": "9934d5c9-eee5-44c6-98e1-b5da0091e89e",
   "metadata": {},
   "outputs": [],
   "source": [
    "from hydronet.db import HydroNetDB, HydroNetRecord\n",
    "from tqdm import tqdm\n",
    "import pandas as pd"
   ]
  },
  {
   "cell_type": "markdown",
   "id": "9568501f-012c-49c8-9192-13c85334473e",
   "metadata": {},
   "source": [
    "Configuration"
   ]
  },
  {
   "cell_type": "code",
   "execution_count": 2,
   "id": "ef64166e-6377-4454-88f6-74bde0c1ca9d",
   "metadata": {},
   "outputs": [],
   "source": [
    "n_random = 2\n",
    "n_best = 2"
   ]
  },
  {
   "cell_type": "markdown",
   "id": "1fe40111-0318-49f8-aa46-b3e6bb40148d",
   "metadata": {},
   "source": [
    "## Get an example of cluster of each size\n",
    "Pick some based on low-energy minimia and some randomly"
   ]
  },
  {
   "cell_type": "code",
   "execution_count": 4,
   "id": "411ccd49-9220-473c-9b89-816e1e9c74bd",
   "metadata": {
    "tags": []
   },
   "outputs": [
    {
     "name": "stdout",
     "output_type": "stream",
     "text": [
      "Connected to a database with around 4585608 water clusters\n"
     ]
    }
   ],
   "source": [
    "mongo = HydroNetDB.from_connection_info(hostname=hostname, password=password, username=username)\n",
    "n_docs = mongo.collection.estimated_document_count()\n",
    "print(f'Connected to a database with around {n_docs} water clusters')"
   ]
  },
  {
   "cell_type": "markdown",
   "id": "25ba98b8-25bf-43af-bb9d-479cdda20de3",
   "metadata": {},
   "source": [
    "Collect the lowest-energy structures"
   ]
  },
  {
   "cell_type": "code",
   "execution_count": 5,
   "id": "9edc43b4-2526-4d23-9619-34a015e4e905",
   "metadata": {},
   "outputs": [],
   "source": [
    "selected = {}  # Dictionary to prevent duplicates"
   ]
  },
  {
   "cell_type": "code",
   "execution_count": 6,
   "id": "b03b6c14-d427-4799-b86b-9ba40f27e0b8",
   "metadata": {},
   "outputs": [
    {
     "name": "stderr",
     "output_type": "stream",
     "text": [
      "100%|██████████| 5/5 [02:42<00:00, 32.51s/it]\n"
     ]
    }
   ],
   "source": [
    "for csize in tqdm(range(4, 30, 6)):\n",
    "    for cluster in mongo.collection.find({'n_waters': csize}, sort=[('energy', 1)], limit=n_best):\n",
    "        record = HydroNetRecord.parse_obj(cluster)\n",
    "        selected[cluster['_id']] = record"
   ]
  },
  {
   "cell_type": "markdown",
   "id": "8dec327a-1299-44b6-906c-1f8477d76ad4",
   "metadata": {},
   "source": [
    "Collect some structures at random"
   ]
  },
  {
   "cell_type": "code",
   "execution_count": 7,
   "id": "69874c84-17ab-44c6-bcdb-ddd79eee5186",
   "metadata": {},
   "outputs": [
    {
     "name": "stderr",
     "output_type": "stream",
     "text": [
      "100%|██████████| 5/5 [00:12<00:00,  2.53s/it]\n"
     ]
    }
   ],
   "source": [
    "for csize in tqdm(range(4, 30, 6)):\n",
    "    for cluster in mongo.collection.find({'n_waters': csize}, sort=[('position', 1)], limit=n_random):\n",
    "        record = HydroNetRecord.parse_obj(cluster)\n",
    "        selected[cluster['_id']] = record"
   ]
  },
  {
   "cell_type": "markdown",
   "id": "d0041290-fa81-4428-977f-af3acfb25412",
   "metadata": {},
   "source": [
    "Prepare them for output. We need the ID, XYZ geometry, ring hash, and TTM energy. "
   ]
  },
  {
   "cell_type": "code",
   "execution_count": 8,
   "id": "eb34ad46-d0e9-401c-8cd1-c3d1676f733d",
   "metadata": {},
   "outputs": [],
   "source": [
    "output = []\n",
    "for cid, cluster in selected.items():\n",
    "    output.append({\n",
    "        'id': cid,\n",
    "        'n_waters': cluster.n_waters,\n",
    "        'xyz': cluster.xyz,\n",
    "        'cycle_hash': cluster.cycle_hash,\n",
    "        'ttm_energy': cluster.energy\n",
    "    })\n",
    "output = pd.DataFrame(output).sort_values(['n_waters', 'ttm_energy'])\n",
    "output.to_csv('example_structures.csv', index=False)"
   ]
  },
  {
   "cell_type": "code",
   "execution_count": null,
   "id": "44020f25-7718-46d0-9108-89ab5916d1c7",
   "metadata": {},
   "outputs": [],
   "source": []
  }
 ],
 "metadata": {
  "kernelspec": {
   "display_name": "Python 3 (ipykernel)",
   "language": "python",
   "name": "python3"
  },
  "language_info": {
   "codemirror_mode": {
    "name": "ipython",
    "version": 3
   },
   "file_extension": ".py",
   "mimetype": "text/x-python",
   "name": "python",
   "nbconvert_exporter": "python",
   "pygments_lexer": "ipython3",
   "version": "3.10.8"
  }
 },
 "nbformat": 4,
 "nbformat_minor": 5
}
