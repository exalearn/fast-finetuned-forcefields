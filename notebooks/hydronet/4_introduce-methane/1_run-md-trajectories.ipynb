{
 "cells": [
  {
   "cell_type": "markdown",
   "id": "c5b0ae4a-0b67-4d90-9d1d-3de9d32e3c85",
   "metadata": {},
   "source": [
    "# Run Molecular Dynamics Trajectories with Psi4\n",
    "We want to see how closely our ML models adhere to trajectories produced without surrogates"
   ]
  },
  {
   "cell_type": "code",
   "execution_count": 1,
   "id": "d59b7c7d-3262-49e5-9af5-ef8d86e55838",
   "metadata": {
    "tags": []
   },
   "outputs": [
    {
     "name": "stderr",
     "output_type": "stream",
     "text": [
      "/lus/theta-fs0/projects/CSC249ADCD08/fast-finedtuned-forcefields/env-cpu/lib/python3.10/site-packages/tqdm/auto.py:22: TqdmWarning: IProgress not found. Please update jupyter and ipywidgets. See https://ipywidgets.readthedocs.io/en/stable/user_install.html\n",
      "  from .autonotebook import tqdm as notebook_tqdm\n"
     ]
    }
   ],
   "source": [
    "%matplotlib inline\n",
    "from matplotlib import pyplot as plt\n",
    "from fff.sampling.md import MolecularDynamics\n",
    "from fff.simulation.utils import read_from_string\n",
    "from ase.md.velocitydistribution import MaxwellBoltzmannDistribution\n",
    "from ase.calculators.psi4 import Psi4\n",
    "from ase.db import connect\n",
    "from ase.io import write\n",
    "from pathlib import Path\n",
    "from tqdm import tqdm\n",
    "import pandas as pd\n",
    "import numpy as np\n",
    "import warnings"
   ]
  },
  {
   "cell_type": "markdown",
   "id": "cc7fce9a-4d6a-465e-886c-ef9e341197e7",
   "metadata": {},
   "source": [
    "Configuration"
   ]
  },
  {
   "cell_type": "code",
   "execution_count": 2,
   "id": "44e3b348-76ae-4513-a9f0-a0bb738b23f0",
   "metadata": {
    "tags": []
   },
   "outputs": [],
   "source": [
    "out_dir = Path('trajectories')"
   ]
  },
  {
   "cell_type": "markdown",
   "id": "873741f4-09c7-465c-9838-30b0549e4e71",
   "metadata": {},
   "source": [
    "## Load in Example Structures\n",
    "Use the same ones from our nwchem-evaluation"
   ]
  },
  {
   "cell_type": "markdown",
   "id": "003412ba-7772-45e4-8096-004236e17d7e",
   "metadata": {},
   "source": [
    "## Run Molecular Dynamics with DFT\n",
    "Run a 1000 timesteps and save an entry every 10"
   ]
  },
  {
   "cell_type": "code",
   "execution_count": 3,
   "id": "f906d7fa-e1e1-4822-b3ad-a10567796e88",
   "metadata": {},
   "outputs": [
    {
     "name": "stdout",
     "output_type": "stream",
     "text": [
      "  Threads set to 12 by Python driver.\n"
     ]
    }
   ],
   "source": [
    "psi4 = Psi4(method='pbe0', basis='aug-cc-pvdz', num_threads=12, PSI_SCRATCH='/lus/grand/projects/CSC249ADCD08/psi4')"
   ]
  },
  {
   "cell_type": "markdown",
   "id": "a2e28a19-0555-4644-ba66-88274220c56e",
   "metadata": {},
   "source": [
    "Test with diff"
   ]
  },
  {
   "cell_type": "code",
   "execution_count": null,
   "id": "e5172215-b35f-47ed-ad4c-808e236fa3a8",
   "metadata": {},
   "outputs": [
    {
     "name": "stderr",
     "output_type": "stream",
     "text": [
      "0it [00:00, ?it/s]"
     ]
    },
    {
     "name": "stdout",
     "output_type": "stream",
     "text": [
      "  Threads set to 12 by Python driver.\n"
     ]
    },
    {
     "name": "stderr",
     "output_type": "stream",
     "text": [
      "IOStream.flush timed out\n",
      "IOStream.flush timed out\n"
     ]
    }
   ],
   "source": [
    "out_dir.mkdir(exist_ok=True)\n",
    "for name, calc in [('dft', psi4)]:\n",
    "    with connect('methane-added.db') as db:\n",
    "        for row in tqdm(db.select('', limit=4)):\n",
    "            for temp in [100, 300, 900]:\n",
    "                out_path = out_dir / f'{name}_n={(row.natoms - 2) // 3}_T={temp}K-{row.filename}.db'\n",
    "                if out_path.is_file():\n",
    "                    continue\n",
    "\n",
    "                # Read the structure and initialize it at 100K\n",
    "                atoms = row.toatoms()\n",
    "                MaxwellBoltzmannDistribution(atoms, temperature_K=temp * 2,\n",
    "                                             rng=np.random.RandomState(1))\n",
    "\n",
    "                # Run it for a few timesteps\n",
    "                with warnings.catch_warnings():\n",
    "                    warnings.simplefilter('ignore')\n",
    "                    _, traj = MolecularDynamics(scratch_dir=Path.cwd()).run_sampling(atoms, 100, calc, timestep=0.1, log_interval=2)\n",
    "\n",
    "                # Save it to disk\n",
    "                write(str(out_path), traj)"
   ]
  },
  {
   "cell_type": "code",
   "execution_count": null,
   "id": "19f69adf-e203-4658-b795-e4a115b561bb",
   "metadata": {},
   "outputs": [],
   "source": []
  },
  {
   "cell_type": "code",
   "execution_count": null,
   "id": "322111f7-9815-4b9d-8388-5bc549248a8a",
   "metadata": {},
   "outputs": [],
   "source": []
  }
 ],
 "metadata": {
  "kernelspec": {
   "display_name": "Python 3 (ipykernel)",
   "language": "python",
   "name": "python3"
  },
  "language_info": {
   "codemirror_mode": {
    "name": "ipython",
    "version": 3
   },
   "file_extension": ".py",
   "mimetype": "text/x-python",
   "name": "python",
   "nbconvert_exporter": "python",
   "pygments_lexer": "ipython3",
   "version": "3.10.8"
  }
 },
 "nbformat": 4,
 "nbformat_minor": 5
}
