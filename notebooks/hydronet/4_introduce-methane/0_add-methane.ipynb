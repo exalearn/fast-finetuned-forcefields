{
 "cells": [
  {
   "cell_type": "markdown",
   "id": "0b151fc4-2e18-4dc9-bd46-c45927957b86",
   "metadata": {},
   "source": [
    "# Add Methane into a Cluster\n",
    "Take a water in the middle and make it methane!"
   ]
  },
  {
   "cell_type": "code",
   "execution_count": 1,
   "id": "9078ab2f-4d34-4aef-afa1-522307f16c96",
   "metadata": {},
   "outputs": [],
   "source": [
    "from ase.io import read\n",
    "from ase.db import connect\n",
    "from ase.build import molecule\n",
    "from scipy.optimize import minimize\n",
    "from random import shuffle, seed\n",
    "from tqdm import tqdm\n",
    "import numpy as np"
   ]
  },
  {
   "cell_type": "markdown",
   "id": "42788b3e-6d8b-4bdb-b274-a0d46490fe8c",
   "metadata": {},
   "source": [
    "Configuration"
   ]
  },
  {
   "cell_type": "code",
   "execution_count": 2,
   "id": "3e48070e-bcc5-4479-b53e-b2d125b96dbe",
   "metadata": {},
   "outputs": [],
   "source": [
    "number_to_make = 1024"
   ]
  },
  {
   "cell_type": "markdown",
   "id": "3ddd90f7-05e6-4393-910a-e60a422a8f80",
   "metadata": {},
   "source": [
    "## Load in Some Clusters\n",
    "Get all of the clusters we used for training"
   ]
  },
  {
   "cell_type": "code",
   "execution_count": 3,
   "id": "c93ad988-33a3-4152-b4f5-0ab30db84b96",
   "metadata": {},
   "outputs": [
    {
     "name": "stdout",
     "output_type": "stream",
     "text": [
      "Loaded 1720 water clusters\n"
     ]
    }
   ],
   "source": [
    "with connect('../initial-database/initial-ttm.db') as db:\n",
    "    water_clusters = []\n",
    "    for row in db.select():\n",
    "        atoms = row.toatoms()\n",
    "        atoms.info['filename'] = row.filename\n",
    "        water_clusters.append(atoms)\n",
    "print(f'Loaded {len(water_clusters)} water clusters')"
   ]
  },
  {
   "cell_type": "markdown",
   "id": "b1b9bdff-0ed2-4f09-9454-878ff8f68fa2",
   "metadata": {},
   "source": [
    "Shuffle them"
   ]
  },
  {
   "cell_type": "code",
   "execution_count": 4,
   "id": "5ae96f20-704f-4beb-9f39-929c50af6618",
   "metadata": {},
   "outputs": [],
   "source": [
    "seed(4)\n",
    "shuffle(water_clusters)"
   ]
  },
  {
   "cell_type": "code",
   "execution_count": 5,
   "id": "4f9ebadb-10b9-4000-9f6a-5496d28034d2",
   "metadata": {},
   "outputs": [],
   "source": [
    "assert water_clusters[0].info['filename'] == 'mctbp_8909.xyz'  # Ensure we get the same order always"
   ]
  },
  {
   "cell_type": "markdown",
   "id": "f5efdd35-048d-4ece-b5c6-738a99101d60",
   "metadata": {},
   "source": [
    "## Make a Function to do the \n",
    "We're going to take a water in the middle and make it a methane"
   ]
  },
  {
   "cell_type": "code",
   "execution_count": 6,
   "id": "fe8956ea-4ef1-44fd-b0c3-1ca3d8b5e363",
   "metadata": {},
   "outputs": [],
   "source": [
    "def replace_inner_water(atoms):\n",
    "    \"\"\"Replace the centermost water in a structure with a methane\n",
    "    \n",
    "    Args:\n",
    "        atoms: Structure to alter\n",
    "    Returns:\n",
    "        A structure that now includes a water\n",
    "    \"\"\"\n",
    "    \n",
    "    # Create a copy\n",
    "    atoms = atoms.copy()\n",
    "    \n",
    "    # Find the water closest to the center of mass\n",
    "    center_O = np.linalg.norm(atoms.positions[::3] - atoms.get_center_of_mass(), axis=1).argmin()\n",
    "\n",
    "    # Delete that water\n",
    "    center_O *= 3 \n",
    "    center_pos = atoms.positions[center_O]\n",
    "    del atoms[center_O:center_O + 3]  # Next two atoms are its waters\n",
    "    assert atoms.get_chemical_formula(empirical=True) == 'H2O'\n",
    "    \n",
    "    # Combine the structures given a certain rotation angle\n",
    "    def _combine_with_rotation(x):\n",
    "        \"\"\"Rotate methane, combine and then return the resultant structure and bond distances\"\"\"        \n",
    "        # Make a rotated copy of methane\n",
    "        rot_meth = molecule('CH4')\n",
    "        rot_meth.euler_rotate(*x)\n",
    "        \n",
    "        # Translate it\n",
    "        rot_meth.set_center_of_mass(center_pos)\n",
    "        \n",
    "        # Combine the structures\n",
    "        new_strc = atoms + rot_meth\n",
    "        new_strc.info = atoms.info\n",
    "\n",
    "        # Measure distances\n",
    "        dists = new_strc.get_all_distances()\n",
    "        min_dist = dists[-5:,:-5].min()\n",
    "        \n",
    "        return new_strc, min_dist\n",
    "    \n",
    "    # Find the rotation of the methane that produces the (locally) maximize distances\n",
    "    res = minimize(lambda x: -_combine_with_rotation(x)[1], [10, 100, 0], method='Nelder-Mead')\n",
    "    new_strc, min_dist = _combine_with_rotation(res.x)\n",
    "    assert min_dist > 0.5, f'Distances are within {min_dist:.2f}'\n",
    "    \n",
    "    return new_strc, min_dist"
   ]
  },
  {
   "cell_type": "code",
   "execution_count": 7,
   "id": "ebf0f107-2aef-4af4-add7-50342c7c4918",
   "metadata": {},
   "outputs": [
    {
     "data": {
      "text/plain": [
       "(Atoms(symbols='OH2OH2OH2OH2OH2OH2OH2CH4', pbc=False), 1.746739658915813)"
      ]
     },
     "execution_count": 7,
     "metadata": {},
     "output_type": "execute_result"
    }
   ],
   "source": [
    "replace_inner_water(water_clusters[0])"
   ]
  },
  {
   "cell_type": "markdown",
   "id": "eb15c98f-f20f-4ce2-a2ab-1ac265db8760",
   "metadata": {},
   "source": [
    "## Make a bunch of them\n",
    "Give our algorithms a good place to start"
   ]
  },
  {
   "cell_type": "code",
   "execution_count": null,
   "id": "5c606a19-6be8-4c73-8620-527f50fe2b54",
   "metadata": {},
   "outputs": [
    {
     "name": "stderr",
     "output_type": "stream",
     "text": [
      " 96%|█████████▌| 981/1024 [02:29<00:06,  6.47it/s]"
     ]
    }
   ],
   "source": [
    "with connect('methane-added.db', append=False) as db:\n",
    "    for a in tqdm(water_clusters[:number_to_make]):\n",
    "        atoms, min_dist = replace_inner_water(a)\n",
    "        db.write(atoms, **atoms.info)"
   ]
  },
  {
   "cell_type": "code",
   "execution_count": null,
   "id": "22797224-0bad-48f2-a6b2-c9df1031e4c7",
   "metadata": {},
   "outputs": [],
   "source": []
  }
 ],
 "metadata": {
  "kernelspec": {
   "display_name": "Python 3 (ipykernel)",
   "language": "python",
   "name": "python3"
  },
  "language_info": {
   "codemirror_mode": {
    "name": "ipython",
    "version": 3
   },
   "file_extension": ".py",
   "mimetype": "text/x-python",
   "name": "python",
   "nbconvert_exporter": "python",
   "pygments_lexer": "ipython3",
   "version": "3.10.8"
  }
 },
 "nbformat": 4,
 "nbformat_minor": 5
}
