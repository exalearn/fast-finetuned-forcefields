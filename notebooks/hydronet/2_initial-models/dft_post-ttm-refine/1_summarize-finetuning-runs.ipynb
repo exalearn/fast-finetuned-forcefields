{
 "cells": [
  {
   "cell_type": "markdown",
   "id": "9e7e78d2-67db-446f-b42e-919d633f8cff",
   "metadata": {},
   "source": [
    "# Summarize Runs\n",
    "Find the best model"
   ]
  },
  {
   "cell_type": "code",
   "execution_count": 1,
   "id": "9f636989-2558-4780-86d4-3c054e9a454a",
   "metadata": {},
   "outputs": [],
   "source": [
    "%matplotlib inline\n",
    "from matplotlib import pyplot as plt\n",
    "from pathlib import Path\n",
    "from ase import units\n",
    "import pandas as pd\n",
    "import numpy as np\n",
    "import json"
   ]
  },
  {
   "cell_type": "markdown",
   "id": "4301d331-efab-4de1-a125-1f20e5e8028b",
   "metadata": {},
   "source": [
    "Configuration"
   ]
  },
  {
   "cell_type": "code",
   "execution_count": 2,
   "id": "e9e9f4d1-1d2d-481e-8daa-9b1d7afc4151",
   "metadata": {},
   "outputs": [],
   "source": [
    "model_to_tune = 'md-100k'"
   ]
  },
  {
   "cell_type": "markdown",
   "id": "e7d54db0-d00b-49e5-bd39-18a0af37ccc0",
   "metadata": {},
   "source": [
    "## Gather outputs from runs\n",
    "Get the configuration and test summary"
   ]
  },
  {
   "cell_type": "code",
   "execution_count": 3,
   "id": "319cfa5d-4e44-4cb6-898f-d38247c7a77f",
   "metadata": {},
   "outputs": [
    {
     "name": "stdout",
     "output_type": "stream",
     "text": [
      "Found 44 completed runs\n"
     ]
    }
   ],
   "source": [
    "complete_runs = [x.parent for x in Path('runs').glob('*/*/test_summary.json')]\n",
    "print(f'Found {len(complete_runs)} completed runs')"
   ]
  },
  {
   "cell_type": "code",
   "execution_count": 4,
   "id": "4e2e2d4f-5aac-4fae-bc22-604e6420c7d5",
   "metadata": {},
   "outputs": [],
   "source": [
    "def load_summary(path: Path) -> dict:\n",
    "    \"\"\"Load the summary of the run configuration and parameters\n",
    "    \n",
    "    Args:\n",
    "        path: Path to the run\n",
    "    Returns:\n",
    "        Summary of inputs and results\n",
    "    \"\"\"\n",
    "    \n",
    "    # Load the configuration and summary\n",
    "    output = {'path': path, 'starting_model': path.parent.name}\n",
    "    output.update(json.loads((path / 'config.json').read_text()))\n",
    "    output.update(json.loads((path / 'test_summary.json').read_text()))\n",
    "    output['delta_energy'], output['delta_force'] = output['huber_deltas']\n",
    "    \n",
    "    # Get the best validation loss\n",
    "    output['valid_force_loss'] = pd.read_csv(path / 'train_log.csv')['valid_loss_force'].min()\n",
    "    return output"
   ]
  },
  {
   "cell_type": "code",
   "execution_count": 5,
   "id": "73d4db9d-1285-47c9-a076-2a7d72cd4c15",
   "metadata": {},
   "outputs": [
    {
     "data": {
      "text/html": [
       "<div>\n",
       "<style scoped>\n",
       "    .dataframe tbody tr th:only-of-type {\n",
       "        vertical-align: middle;\n",
       "    }\n",
       "\n",
       "    .dataframe tbody tr th {\n",
       "        vertical-align: top;\n",
       "    }\n",
       "\n",
       "    .dataframe thead th {\n",
       "        text-align: right;\n",
       "    }\n",
       "</style>\n",
       "<table border=\"1\" class=\"dataframe\">\n",
       "  <thead>\n",
       "    <tr style=\"text-align: right;\">\n",
       "      <th></th>\n",
       "      <th>path</th>\n",
       "      <th>starting_model</th>\n",
       "      <th>huber_deltas</th>\n",
       "      <th>num_epochs</th>\n",
       "      <th>batch_size</th>\n",
       "      <th>learning_rate</th>\n",
       "      <th>lr_patience</th>\n",
       "      <th>energy_weight</th>\n",
       "      <th>max_force</th>\n",
       "      <th>test_runtime</th>\n",
       "      <th>energy_mae</th>\n",
       "      <th>force_rmse</th>\n",
       "      <th>delta_energy</th>\n",
       "      <th>delta_force</th>\n",
       "      <th>valid_force_loss</th>\n",
       "    </tr>\n",
       "  </thead>\n",
       "  <tbody>\n",
       "    <tr>\n",
       "      <th>10</th>\n",
       "      <td>runs/md-100k-large/n512-lr3.0e-05-5c927961</td>\n",
       "      <td>md-100k-large</td>\n",
       "      <td>[0.1, 10.0]</td>\n",
       "      <td>512</td>\n",
       "      <td>32</td>\n",
       "      <td>0.00003</td>\n",
       "      <td>64</td>\n",
       "      <td>0.1</td>\n",
       "      <td>10</td>\n",
       "      <td>14.007253</td>\n",
       "      <td>0.001308</td>\n",
       "      <td>0.077744</td>\n",
       "      <td>0.1</td>\n",
       "      <td>10.0</td>\n",
       "      <td>0.006239</td>\n",
       "    </tr>\n",
       "    <tr>\n",
       "      <th>40</th>\n",
       "      <td>runs/md-100k/n512-lr3.0e-05-5c927961</td>\n",
       "      <td>md-100k</td>\n",
       "      <td>[0.1, 10.0]</td>\n",
       "      <td>512</td>\n",
       "      <td>32</td>\n",
       "      <td>0.00003</td>\n",
       "      <td>64</td>\n",
       "      <td>0.1</td>\n",
       "      <td>10</td>\n",
       "      <td>11.944633</td>\n",
       "      <td>0.000473</td>\n",
       "      <td>0.078827</td>\n",
       "      <td>0.1</td>\n",
       "      <td>10.0</td>\n",
       "      <td>0.007004</td>\n",
       "    </tr>\n",
       "    <tr>\n",
       "      <th>2</th>\n",
       "      <td>runs/md-100k-large/n256-lr3.0e-05-c095cb60</td>\n",
       "      <td>md-100k-large</td>\n",
       "      <td>[0.1, 10.0]</td>\n",
       "      <td>256</td>\n",
       "      <td>32</td>\n",
       "      <td>0.00003</td>\n",
       "      <td>64</td>\n",
       "      <td>0.1</td>\n",
       "      <td>10</td>\n",
       "      <td>14.074899</td>\n",
       "      <td>0.000448</td>\n",
       "      <td>0.088534</td>\n",
       "      <td>0.1</td>\n",
       "      <td>10.0</td>\n",
       "      <td>0.007686</td>\n",
       "    </tr>\n",
       "    <tr>\n",
       "      <th>28</th>\n",
       "      <td>runs/md-20k/n512-lr3.0e-05-5c927961</td>\n",
       "      <td>md-20k</td>\n",
       "      <td>[0.1, 10.0]</td>\n",
       "      <td>512</td>\n",
       "      <td>32</td>\n",
       "      <td>0.00003</td>\n",
       "      <td>64</td>\n",
       "      <td>0.1</td>\n",
       "      <td>10</td>\n",
       "      <td>2.692068</td>\n",
       "      <td>0.000509</td>\n",
       "      <td>0.088548</td>\n",
       "      <td>0.1</td>\n",
       "      <td>10.0</td>\n",
       "      <td>0.005446</td>\n",
       "    </tr>\n",
       "    <tr>\n",
       "      <th>34</th>\n",
       "      <td>runs/md-100k/n256-lr3.0e-05-c095cb60</td>\n",
       "      <td>md-100k</td>\n",
       "      <td>[0.1, 10.0]</td>\n",
       "      <td>256</td>\n",
       "      <td>32</td>\n",
       "      <td>0.00003</td>\n",
       "      <td>64</td>\n",
       "      <td>0.1</td>\n",
       "      <td>10</td>\n",
       "      <td>11.619282</td>\n",
       "      <td>0.000736</td>\n",
       "      <td>0.091649</td>\n",
       "      <td>0.1</td>\n",
       "      <td>10.0</td>\n",
       "      <td>0.008463</td>\n",
       "    </tr>\n",
       "  </tbody>\n",
       "</table>\n",
       "</div>"
      ],
      "text/plain": [
       "                                          path starting_model huber_deltas  \\\n",
       "10  runs/md-100k-large/n512-lr3.0e-05-5c927961  md-100k-large  [0.1, 10.0]   \n",
       "40        runs/md-100k/n512-lr3.0e-05-5c927961        md-100k  [0.1, 10.0]   \n",
       "2   runs/md-100k-large/n256-lr3.0e-05-c095cb60  md-100k-large  [0.1, 10.0]   \n",
       "28         runs/md-20k/n512-lr3.0e-05-5c927961         md-20k  [0.1, 10.0]   \n",
       "34        runs/md-100k/n256-lr3.0e-05-c095cb60        md-100k  [0.1, 10.0]   \n",
       "\n",
       "    num_epochs  batch_size  learning_rate  lr_patience  energy_weight  \\\n",
       "10         512          32        0.00003           64            0.1   \n",
       "40         512          32        0.00003           64            0.1   \n",
       "2          256          32        0.00003           64            0.1   \n",
       "28         512          32        0.00003           64            0.1   \n",
       "34         256          32        0.00003           64            0.1   \n",
       "\n",
       "    max_force  test_runtime  energy_mae  force_rmse  delta_energy  \\\n",
       "10         10     14.007253    0.001308    0.077744           0.1   \n",
       "40         10     11.944633    0.000473    0.078827           0.1   \n",
       "2          10     14.074899    0.000448    0.088534           0.1   \n",
       "28         10      2.692068    0.000509    0.088548           0.1   \n",
       "34         10     11.619282    0.000736    0.091649           0.1   \n",
       "\n",
       "    delta_force  valid_force_loss  \n",
       "10         10.0          0.006239  \n",
       "40         10.0          0.007004  \n",
       "2          10.0          0.007686  \n",
       "28         10.0          0.005446  \n",
       "34         10.0          0.008463  "
      ]
     },
     "execution_count": 5,
     "metadata": {},
     "output_type": "execute_result"
    }
   ],
   "source": [
    "summary = pd.DataFrame(map(load_summary, complete_runs)).sort_values('force_rmse')\n",
    "summary.head()"
   ]
  },
  {
   "cell_type": "markdown",
   "id": "26305033-6a20-40a1-88ce-a3b43294375a",
   "metadata": {},
   "source": [
    "## Evaluate the learning parameters\n",
    "We need a low learning rate for fine tuning, but too low prevents adaquate learning. The effect of learning rate being too high appears in the first few epochs, so we'll do this test with only 8 epochs."
   ]
  },
  {
   "cell_type": "markdown",
   "id": "7bbaa14a-06d8-45ba-9c8d-879e9ec1f181",
   "metadata": {},
   "source": [
    "Only evaluate a single model type"
   ]
  },
  {
   "cell_type": "code",
   "execution_count": 6,
   "id": "d0191e85-4e53-45f8-97f4-a0ac67355677",
   "metadata": {},
   "outputs": [],
   "source": [
    "to_eval = summary.query(f'starting_model==\"{model_to_tune}\"')"
   ]
  },
  {
   "cell_type": "code",
   "execution_count": 7,
   "id": "2ccab587-61bd-4c2c-b056-06629a288ca3",
   "metadata": {},
   "outputs": [],
   "source": [
    "cutoff_subset = to_eval.query('num_epochs==16 and lr_patience==64').sort_values('learning_rate')"
   ]
  },
  {
   "cell_type": "code",
   "execution_count": 8,
   "id": "7190a247-462d-4697-8b74-7bbd139c9855",
   "metadata": {},
   "outputs": [
    {
     "data": {
      "text/plain": [
       "Text(0, 0.5, 'Force, RMSD (eV/$\\\\AA$)')"
      ]
     },
     "execution_count": 8,
     "metadata": {},
     "output_type": "execute_result"
    },
    {
     "data": {
      "image/png": "[encoded data removed]",
      "text/plain": [
       "<Figure size 350x200 with 1 Axes>"
      ]
     },
     "metadata": {},
     "output_type": "display_data"
    }
   ],
   "source": [
    "fig, ax = plt.subplots(figsize=(3.5, 2.))\n",
    "\n",
    "ax.semilogx(cutoff_subset['learning_rate'], cutoff_subset['force_rmse'], '--o')\n",
    "\n",
    "ax.set_xlabel('Learning Rate')\n",
    "ax.set_ylabel('Force, RMSD (eV/$\\\\AA$)')"
   ]
  },
  {
   "cell_type": "markdown",
   "id": "b1527b1e-8252-4e35-9e35-344781cb94a2",
   "metadata": {},
   "source": [
    "Check if we can do better with learning rate patience"
   ]
  },
  {
   "cell_type": "code",
   "execution_count": 9,
   "id": "434e521b-98bd-47ee-8369-4d0d3707c45c",
   "metadata": {},
   "outputs": [],
   "source": [
    "subset = to_eval.query('num_epochs==16 and learning_rate==3e-5 and delta_force==10').sort_values('lr_patience')"
   ]
  },
  {
   "cell_type": "code",
   "execution_count": 10,
   "id": "9298b90a-88fa-4ae8-bb39-2c4c66e2cb3d",
   "metadata": {},
   "outputs": [
    {
     "data": {
      "text/plain": [
       "Text(0, 0.5, 'Force, RMSD (eV/$\\\\AA$)')"
      ]
     },
     "execution_count": 10,
     "metadata": {},
     "output_type": "execute_result"
    },
    {
     "data": {
      "image/png": "[encoded data removed]",
      "text/plain": [
       "<Figure size 350x200 with 1 Axes>"
      ]
     },
     "metadata": {},
     "output_type": "display_data"
    }
   ],
   "source": [
    "fig, ax = plt.subplots(figsize=(3.5, 2.))\n",
    "\n",
    "ax.plot(subset['lr_patience'], subset['force_rmse'], '--o')\n",
    "\n",
    "ax.set_xlabel('Patience')\n",
    "ax.set_ylabel('Force, RMSD (eV/$\\\\AA$)')"
   ]
  },
  {
   "cell_type": "markdown",
   "id": "213ebaef-933a-4c76-b5ed-9147199dde94",
   "metadata": {},
   "source": [
    "I don't trust the low patience (2) enough to ignore the trend of \"more patience is better.\" I'm going to use a patience of 64 in the long-scale runs."
   ]
  },
  {
   "cell_type": "markdown",
   "id": "59172ce3-518b-4289-a5ef-cb61f2847f7c",
   "metadata": {},
   "source": [
    "Check to make sure we don't overfit on the number of epochs"
   ]
  },
  {
   "cell_type": "code",
   "execution_count": 11,
   "id": "89c5827a-6b0b-4f6e-9153-a4b8feccfa80",
   "metadata": {},
   "outputs": [],
   "source": [
    "subset = to_eval.query('learning_rate==3e-5 and delta_force==10 and lr_patience==64').sort_values('num_epochs')"
   ]
  },
  {
   "cell_type": "code",
   "execution_count": 12,
   "id": "c0ba4f21-4fe4-466b-80bf-80f1dd50ed43",
   "metadata": {},
   "outputs": [
    {
     "data": {
      "text/plain": [
       "Text(0, 0.5, 'Force, RMSD (eV/$\\\\AA$)')"
      ]
     },
     "execution_count": 12,
     "metadata": {},
     "output_type": "execute_result"
    },
    {
     "data": {
      "image/png": "[encoded data removed]",
      "text/plain": [
       "<Figure size 350x200 with 1 Axes>"
      ]
     },
     "metadata": {},
     "output_type": "display_data"
    }
   ],
   "source": [
    "fig, ax = plt.subplots(figsize=(3.5, 2.))\n",
    "\n",
    "ax.semilogx(subset['num_epochs'], subset['force_rmse'], '--o')\n",
    "\n",
    "ax.set_xlabel('Epoch Count')\n",
    "ax.set_ylabel('Force, RMSD (eV/$\\\\AA$)')"
   ]
  },
  {
   "cell_type": "code",
   "execution_count": 13,
   "id": "45cdeb84-956a-4eab-a9b7-9d831f386773",
   "metadata": {},
   "outputs": [
    {
     "data": {
      "text/plain": [
       "Text(0, 0.5, 'Test Loss')"
      ]
     },
     "execution_count": 13,
     "metadata": {},
     "output_type": "execute_result"
    },
    {
     "data": {
      "image/png": "[encoded data removed]",
      "text/plain": [
       "<Figure size 350x200 with 1 Axes>"
      ]
     },
     "metadata": {},
     "output_type": "display_data"
    }
   ],
   "source": [
    "fig, ax = plt.subplots(figsize=(3.5, 2.))\n",
    "\n",
    "ax.plot(subset['valid_force_loss'], subset['force_rmse'], 'o')\n",
    "\n",
    "ax.set_xlabel('Validation Loss')\n",
    "ax.set_ylabel('Test Loss')"
   ]
  },
  {
   "cell_type": "markdown",
   "id": "ca3294b2-9175-4bbf-a999-b5221d61a53f",
   "metadata": {},
   "source": [
    "## Learning Curve\n",
    "Figure out if we've completly converged wrt to number of epochs"
   ]
  },
  {
   "cell_type": "code",
   "execution_count": 14,
   "id": "7274506c-5fa9-405a-82b2-6410bb664918",
   "metadata": {},
   "outputs": [
    {
     "data": {
      "text/plain": [
       "path                runs/md-100k/n512-lr3.0e-05-5c927961\n",
       "starting_model                                   md-100k\n",
       "huber_deltas                                 [0.1, 10.0]\n",
       "num_epochs                                           512\n",
       "batch_size                                            32\n",
       "learning_rate                                    0.00003\n",
       "lr_patience                                           64\n",
       "energy_weight                                        0.1\n",
       "max_force                                             10\n",
       "test_runtime                                   11.944633\n",
       "energy_mae                                      0.000473\n",
       "force_rmse                                      0.078827\n",
       "delta_energy                                         0.1\n",
       "delta_force                                         10.0\n",
       "valid_force_loss                                0.007004\n",
       "Name: 40, dtype: object"
      ]
     },
     "execution_count": 14,
     "metadata": {},
     "output_type": "execute_result"
    }
   ],
   "source": [
    "best = to_eval.sort_values('force_rmse').iloc[0]\n",
    "best"
   ]
  },
  {
   "cell_type": "code",
   "execution_count": 15,
   "id": "eae0c48f-d5e4-4e92-a8c0-e4da65ac8fe3",
   "metadata": {},
   "outputs": [],
   "source": [
    "log = pd.read_csv(best.path / 'train_log.csv')"
   ]
  },
  {
   "cell_type": "code",
   "execution_count": 16,
   "id": "abf45917-919e-4ab2-b2e1-f9b6543be57b",
   "metadata": {},
   "outputs": [
    {
     "data": {
      "text/plain": [
       "Text(0, 0.5, 'Loss')"
      ]
     },
     "execution_count": 16,
     "metadata": {},
     "output_type": "execute_result"
    },
    {
     "data": {
      "image/png": "[encoded data removed]",
      "text/plain": [
       "<Figure size 350x200 with 1 Axes>"
      ]
     },
     "metadata": {},
     "output_type": "display_data"
    }
   ],
   "source": [
    "fig, ax = plt.subplots(figsize=(3.5, 2.))\n",
    "\n",
    "ax.semilogy(log['epoch'], log['train_loss_total'], '--k')\n",
    "ax.semilogy(log['epoch'], log['valid_loss_total'], '-r')\n",
    "\n",
    "\n",
    "ax.set_xlabel('Epoch')\n",
    "ax.set_ylabel('Loss')"
   ]
  },
  {
   "cell_type": "markdown",
   "id": "c59be5bc-9bd7-44f5-a6c4-22528e8395d5",
   "metadata": {},
   "source": [
    "We don't finish converging even past 32 epochs. Need to set up a longer run"
   ]
  },
  {
   "cell_type": "markdown",
   "id": "49cbc897-5d66-48e3-a52b-2140210d919a",
   "metadata": {},
   "source": [
    "## Plot the Learning Data\n",
    "Get an idea of what level of errors to expect"
   ]
  },
  {
   "cell_type": "code",
   "execution_count": 17,
   "id": "189bce39-58eb-4d72-8160-3684a82f4b28",
   "metadata": {},
   "outputs": [
    {
     "name": "stdout",
     "output_type": "stream",
     "text": [
      "Loaded 10076 test records\n"
     ]
    }
   ],
   "source": [
    "test_data = pd.read_csv(best.path / 'test_records.csv.gz').sort_values('n_atoms')\n",
    "print(f'Loaded {len(test_data)} test records')"
   ]
  },
  {
   "cell_type": "markdown",
   "id": "8764396f-227c-43a0-b46a-c722c6317366",
   "metadata": {},
   "source": [
    "Show the predicted vs actual"
   ]
  },
  {
   "cell_type": "code",
   "execution_count": 18,
   "id": "7517f5b2-866b-46de-9212-2566f249f105",
   "metadata": {},
   "outputs": [],
   "source": [
    "true_forces = np.concatenate(test_data['force_true'].apply(json.loads).apply(np.ravel))"
   ]
  },
  {
   "cell_type": "code",
   "execution_count": 19,
   "id": "2bfb99b2-526e-448e-82f4-36c287c0fdd3",
   "metadata": {},
   "outputs": [],
   "source": [
    "ml_forces = np.concatenate(test_data['force_ml'].apply(json.loads).apply(np.ravel))"
   ]
  },
  {
   "cell_type": "code",
   "execution_count": 20,
   "id": "cf649970-f4a2-41d0-934e-835436364fb5",
   "metadata": {},
   "outputs": [
    {
     "data": {
      "image/png": "[encoded data removed]",
      "text/plain": [
       "<Figure size 550x300 with 2 Axes>"
      ]
     },
     "metadata": {},
     "output_type": "display_data"
    }
   ],
   "source": [
    "fig, axs = plt.subplots(1, 2, figsize=(5.5, 3.))\n",
    "\n",
    "# Energy plot\n",
    "axs[0].scatter(test_data['energy_ml'], test_data['energy_true'], s=1)\n",
    "axs[0].set_xlabel('Energy, ML (eV)')\n",
    "axs[0].set_ylabel('Energy, TTM (eV)')\n",
    "\n",
    "# Force plot\n",
    "m = axs[1].scatter(ml_forces, true_forces, s=1)\n",
    "axs[1].set_xlabel('Force, ML (eV/$\\\\AA$)')\n",
    "axs[1].set_ylabel('Force, TTM (eV/$\\\\AA$)')\n",
    "\n",
    "for ax in axs:\n",
    "    ax.set_xlim(ax.get_xlim())\n",
    "    ax.set_ylim(ax.get_xlim())\n",
    "    ax.plot(ax.get_xlim(), ax.get_xlim(), 'k--', lw=1)\n",
    "\n",
    "fig.tight_layout()"
   ]
  },
  {
   "cell_type": "markdown",
   "id": "a2053544-b06b-4a86-b4a6-36fa15d41a8d",
   "metadata": {},
   "source": [
    "## Save path to best model\n",
    "Do these for every pretraining we are working from"
   ]
  },
  {
   "cell_type": "code",
   "execution_count": 21,
   "id": "d6a68196-a575-49fa-a446-e94d2d3ba3ae",
   "metadata": {},
   "outputs": [
    {
     "name": "stdout",
     "output_type": "stream",
     "text": [
      "Best model for md-100k is n512-lr3.0e-05-5c927961\n",
      "Best model for md-100k-large is n512-lr3.0e-05-5c927961\n",
      "Best model for md-20k is n512-lr3.0e-05-5c927961\n"
     ]
    }
   ],
   "source": [
    "best_model_dir = Path('best-models/')\n",
    "for name, group in summary.groupby('starting_model'):\n",
    "    best_model = group.sort_values('force_rmse').iloc[0]\n",
    "    print(f'Best model for {name} is {best_model[\"path\"].name}')\n",
    "    \n",
    "    # Save a link\n",
    "    best_path = best_model_dir / name\n",
    "    if best_path.is_symlink():\n",
    "        best_path.unlink()\n",
    "    best_path.symlink_to('..' / best_model.path)"
   ]
  },
  {
   "cell_type": "code",
   "execution_count": null,
   "id": "39e29508-3314-42f0-8228-0425e941e638",
   "metadata": {},
   "outputs": [],
   "source": []
  }
 ],
 "metadata": {
  "kernelspec": {
   "display_name": "Python 3 (ipykernel)",
   "language": "python",
   "name": "python3"
  },
  "language_info": {
   "codemirror_mode": {
    "name": "ipython",
    "version": 3
   },
   "file_extension": ".py",
   "mimetype": "text/x-python",
   "name": "python",
   "nbconvert_exporter": "python",
   "pygments_lexer": "ipython3",
   "version": "3.10.8"
  }
 },
 "nbformat": 4,
 "nbformat_minor": 5
}
