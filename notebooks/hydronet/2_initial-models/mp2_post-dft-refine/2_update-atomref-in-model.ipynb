{
 "cells": [
  {
   "cell_type": "markdown",
   "id": "babd0081-6295-4618-9f5d-634cb0aeee6a",
   "metadata": {},
   "source": [
    "# Reset the Mean Layers\n",
    "Our implementation of SchNet does not use atomrefs, but that is equivalent to normalizing by mean given"
   ]
  },
  {
   "cell_type": "code",
   "execution_count": 1,
   "id": "393e7512-adb0-4677-80a5-8b56cca5ce63",
   "metadata": {},
   "outputs": [
    {
     "name": "stderr",
     "output_type": "stream",
     "text": [
      "/home/lward/miniconda3/envs/fastforce/lib/python3.10/site-packages/tqdm/auto.py:22: TqdmWarning: IProgress not found. Please update jupyter and ipywidgets. See https://ipywidgets.readthedocs.io/en/stable/user_install.html\n",
      "  from .autonotebook import tqdm as notebook_tqdm\n"
     ]
    }
   ],
   "source": [
    "from fff.learning.gc.ase import SchnetCalculator\n",
    "from fff.simulation.utils import read_from_string\n",
    "from ase.optimize import QuasiNewton\n",
    "from ase.calculators.psi4 import Psi4\n",
    "from ase.db import connect\n",
    "from ase import Atoms, units, build\n",
    "from pathlib import Path\n",
    "import numpy as np\n",
    "import torch\n",
    "import json"
   ]
  },
  {
   "cell_type": "markdown",
   "id": "c2acc68f-aa37-4a90-8244-131891911d6c",
   "metadata": {},
   "source": [
    "Configuration"
   ]
  },
  {
   "cell_type": "code",
   "execution_count": 2,
   "id": "6c4a9196-1a84-48f1-a20c-9b9635a37847",
   "metadata": {},
   "outputs": [],
   "source": [
    "start_name = 'dft_mctbp-25000_ttm-100k'\n",
    "basis = 'aug-cc-pvtz'"
   ]
  },
  {
   "cell_type": "markdown",
   "id": "e1dc1616-4cd4-4ebc-920e-40ad03af09b4",
   "metadata": {},
   "source": [
    "## Load in the model\n",
    "Get the best training from the initial TTM data to start from"
   ]
  },
  {
   "cell_type": "code",
   "execution_count": 3,
   "id": "3f1d2076-5492-473f-8b13-32b6276e1dc8",
   "metadata": {},
   "outputs": [],
   "source": [
    "start_dir = Path('best-models') / start_name"
   ]
  },
  {
   "cell_type": "code",
   "execution_count": 4,
   "id": "ab790a20-48bf-4507-8882-0587e23246f3",
   "metadata": {},
   "outputs": [],
   "source": [
    "model = torch.load(start_dir / 'best_model')"
   ]
  },
  {
   "cell_type": "markdown",
   "id": "29ddf824-c50c-4e51-8f73-9c3c5afdbb9e",
   "metadata": {},
   "source": [
    "## Make a calculator to show how poorly it works\n",
    "We should be off by a large constant factor"
   ]
  },
  {
   "cell_type": "code",
   "execution_count": 5,
   "id": "6f7627d1-5011-46fe-86af-004779b758d3",
   "metadata": {},
   "outputs": [],
   "source": [
    "with open('reference-energies.json') as fp:\n",
    "    reference_energies = json.load(fp)"
   ]
  },
  {
   "cell_type": "code",
   "execution_count": 6,
   "id": "b809acc2-8a5c-4e2b-9210-449bfb0c6b3c",
   "metadata": {},
   "outputs": [],
   "source": [
    "water = read_from_string(reference_energies['H2O'][basis]['xyz'], 'xyz')\n",
    "mp2_eng_h2o = reference_energies['H2O'][basis]['energy']"
   ]
  },
  {
   "cell_type": "markdown",
   "id": "abd08933-c7ca-4030-8142-7a133698a06d",
   "metadata": {},
   "source": [
    "Get the energies with SchNet"
   ]
  },
  {
   "cell_type": "code",
   "execution_count": 7,
   "id": "add83d09-9c8e-4284-910c-dee00915f46c",
   "metadata": {},
   "outputs": [],
   "source": [
    "spk_calc = SchnetCalculator(model, 'cpu')\n",
    "spk_eng_h2o = spk_calc.get_potential_energy(water)"
   ]
  },
  {
   "cell_type": "code",
   "execution_count": 8,
   "id": "e2b41a7d-b2c6-41c6-a87a-0e7b5e3eb530",
   "metadata": {},
   "outputs": [
    {
     "name": "stdout",
     "output_type": "stream",
     "text": [
      "Energy of water - Psi4: -2075.26 eV, SchNet -2077.85 eV\n"
     ]
    }
   ],
   "source": [
    "print(f'Energy of water - Psi4: {mp2_eng_h2o:.2f} eV, SchNet {spk_eng_h2o:.2f} eV')"
   ]
  },
  {
   "cell_type": "markdown",
   "id": "82a8206d-6332-45ff-b22c-886855b3ea13",
   "metadata": {},
   "source": [
    "We're very off. TTM does not have a \"per-atom energy\" but DFT does"
   ]
  },
  {
   "cell_type": "markdown",
   "id": "dafb66cd-f9e6-44d5-96b4-a5ecb3c36df7",
   "metadata": {},
   "source": [
    "## Get atomic reference energies\n",
    "We determine them from the bond energies of H2 and H2O."
   ]
  },
  {
   "cell_type": "code",
   "execution_count": 9,
   "id": "f0aa5fea-9a9b-4eeb-91e0-96f1c6f53d3c",
   "metadata": {},
   "outputs": [],
   "source": [
    "isolated_eng = {1: reference_energies['H2'][basis]['energy'] / 2}"
   ]
  },
  {
   "cell_type": "code",
   "execution_count": 10,
   "id": "df2997a9-d60c-4164-a09d-4c439889a0d7",
   "metadata": {},
   "outputs": [],
   "source": [
    "isolated_eng[8] = reference_energies['H2O'][basis]['energy'] - isolated_eng[1] * 2"
   ]
  },
  {
   "cell_type": "markdown",
   "id": "9f87453b-fe3b-4f6c-bcc4-cb1e2872ffe6",
   "metadata": {},
   "source": [
    "## Update these values in the network\n",
    "The atomrefs are stored as an \"Embedding\" layer, which we can update manually"
   ]
  },
  {
   "cell_type": "code",
   "execution_count": 11,
   "id": "296d760f-7b9b-43fd-a9ec-db1f22cbf015",
   "metadata": {},
   "outputs": [],
   "source": [
    "with torch.no_grad():\n",
    "    for z, val in isolated_eng.items():\n",
    "        model.atom_ref.weight[z] = val"
   ]
  },
  {
   "cell_type": "code",
   "execution_count": 12,
   "id": "d6d95564-5432-4d7e-ab07-2583d48c26f7",
   "metadata": {},
   "outputs": [],
   "source": [
    "spk_calc = SchnetCalculator(model, 'cpu')\n",
    "spk_eng_h2o = spk_calc.get_potential_energy(water)"
   ]
  },
  {
   "cell_type": "code",
   "execution_count": 13,
   "id": "76ab87e9-4666-447a-b16c-806e4890b312",
   "metadata": {},
   "outputs": [
    {
     "name": "stdout",
     "output_type": "stream",
     "text": [
      "Energy of water - Psi4: -2075.26 eV, SchNet -2075.25 eV\n"
     ]
    }
   ],
   "source": [
    "print(f'Energy of water - Psi4: {mp2_eng_h2o:.2f} eV, SchNet {spk_eng_h2o:.2f} eV')"
   ]
  },
  {
   "cell_type": "markdown",
   "id": "a1398253-01b4-4a39-9f8f-8f58f4cc7627",
   "metadata": {},
   "source": [
    "## Save Updated Model\n",
    "For us to use later"
   ]
  },
  {
   "cell_type": "code",
   "execution_count": 14,
   "id": "c0bdaef1-6198-4aba-8f25-beee8f0b6fc2",
   "metadata": {},
   "outputs": [],
   "source": [
    "torch.save(model, start_dir / f'a{basis[-3:]}-starting-model')"
   ]
  },
  {
   "cell_type": "code",
   "execution_count": null,
   "id": "e18f36a6-1936-43fd-903b-585dbefbe6d7",
   "metadata": {},
   "outputs": [],
   "source": []
  }
 ],
 "metadata": {
  "kernelspec": {
   "display_name": "Python 3 (ipykernel)",
   "language": "python",
   "name": "python3"
  },
  "language_info": {
   "codemirror_mode": {
    "name": "ipython",
    "version": 3
   },
   "file_extension": ".py",
   "mimetype": "text/x-python",
   "name": "python",
   "nbconvert_exporter": "python",
   "pygments_lexer": "ipython3",
   "version": "3.10.8"
  }
 },
 "nbformat": 4,
 "nbformat_minor": 5
}
