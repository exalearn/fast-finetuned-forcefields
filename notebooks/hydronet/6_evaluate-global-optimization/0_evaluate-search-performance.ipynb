{
 "cells": [
  {
   "cell_type": "markdown",
   "id": "4cf45508-c8d3-40dd-be20-6d4d971647d8",
   "metadata": {},
   "source": [
    "# Evaluate Search Performance of MCTBP During Training\n",
    "Do we find lower-energy structures during the search than were in the dataset to begin with?"
   ]
  },
  {
   "cell_type": "code",
   "execution_count": 1,
   "id": "2b2cb0f8-777e-4d9e-b9f2-ebce6a2a5443",
   "metadata": {},
   "outputs": [],
   "source": [
    "%matplotlib inline\n",
    "from matplotlib import pyplot as plt\n",
    "from fff.simulation.utils import read_from_string\n",
    "from more_itertools import batched\n",
    "from ase.db import connect\n",
    "from pathlib import Path\n",
    "from ase import units\n",
    "import pandas as pd"
   ]
  },
  {
   "cell_type": "markdown",
   "id": "df223064-7475-489a-8950-a05eaabafe2e",
   "metadata": {},
   "source": [
    "## Load in the Data\n",
    "We need data from WDBase and our training run.\n",
    "\n",
    "### Training Run\n",
    "Extract the number of waters in the cluster, where it came from, and its total energy. "
   ]
  },
  {
   "cell_type": "code",
   "execution_count": 2,
   "id": "2c92154d-ba89-4f8d-8179-8231f2ff5294",
   "metadata": {},
   "outputs": [],
   "source": [
    "structures = []\n",
    "with connect('../../../colmena/initial/runs/mp2-mctbp-23Jul29-162655-4a6b29/train.db') as db:\n",
    "    for row in db.select(''):\n",
    "        structures.append({\n",
    "            'n_waters': row.natoms // 3,\n",
    "            'energy': row.energy,\n",
    "            'fmax': row.fmax,\n",
    "            **row.key_value_pairs\n",
    "        })\n",
    "structures = pd.DataFrame(structures)"
   ]
  },
  {
   "cell_type": "markdown",
   "id": "cd04f3b5-f274-4a6a-ab5b-3132fe75c041",
   "metadata": {},
   "source": [
    "Label structures without a source as initial"
   ]
  },
  {
   "cell_type": "code",
   "execution_count": 3,
   "id": "ee963ec2-cd3b-421c-a807-f24221d58474",
   "metadata": {},
   "outputs": [],
   "source": [
    "structures.loc[structures['source'].isnull(), 'source'] = 'initial'"
   ]
  },
  {
   "cell_type": "markdown",
   "id": "7e678835-f266-413f-b691-52a5903453ed",
   "metadata": {},
   "source": [
    "## WDBase\n",
    "Parse the XYZ files I've downloaded from [WDBase](https://sites.uw.edu/wdbase/database-of-water-clusters/)"
   ]
  },
  {
   "cell_type": "code",
   "execution_count": 4,
   "id": "f0609d59-2ac5-415a-9471-ace89ecff948",
   "metadata": {},
   "outputs": [],
   "source": [
    "wdbase_energies = []\n",
    "for mp2_path in Path('./wdbase/mp2-avtz-relaxed/').glob('*.txt'):\n",
    "    n_waters = int(mp2_path.name.split(\"_\")[0][1:])\n",
    "    \n",
    "    with mp2_path.open() as fp:\n",
    "        for i, lines in enumerate(batched(fp, n_waters * 3 + 2)):  # Over each XYZ\n",
    "            # Parse structure\n",
    "            xyz = \"\".join(lines)\n",
    "            energy = float(lines[1].split()[-1]) * units.Ha\n",
    "            read_from_string(xyz, 'xyz')  # Make sure it parses\n",
    "            \n",
    "            # Store the energies\n",
    "            wdbase_energies.append({\n",
    "                'n_waters': n_waters,\n",
    "                'index': i,\n",
    "                'energy': energy,\n",
    "                'xyz': xyz\n",
    "            })\n",
    "wdbase_energies = pd.DataFrame(wdbase_energies)"
   ]
  },
  {
   "cell_type": "markdown",
   "id": "4a7d2247-cafb-46b1-9599-1314a39696ad",
   "metadata": {},
   "source": [
    "## Plot Energies wrt Known Minimum over Time\n",
    "Assume that the minimum energy of the initial training structures or WDBase's AVTZ energies is the putative groundstate."
   ]
  },
  {
   "cell_type": "code",
   "execution_count": 5,
   "id": "5d4d2b2f-08b0-4008-bdac-7a22dd85b2af",
   "metadata": {},
   "outputs": [],
   "source": [
    "my_best_energy = structures.query('source==\"initial\"').groupby('n_waters')['energy'].min().reset_index()\n",
    "wdbase_best_energy = wdbase_energies.groupby('n_waters')['energy'].min().reset_index()"
   ]
  },
  {
   "cell_type": "markdown",
   "id": "482c9d80-611b-49e6-8e36-91343866a652",
   "metadata": {},
   "source": [
    "Get the overall best"
   ]
  },
  {
   "cell_type": "code",
   "execution_count": 6,
   "id": "d3b1f37c-1dc6-4f2b-9685-a09ee8748286",
   "metadata": {},
   "outputs": [],
   "source": [
    "best_energy = my_best_energy.merge(wdbase_best_energy, on='n_waters', suffixes=('_mine', '_wdbase'), how='outer')"
   ]
  },
  {
   "cell_type": "code",
   "execution_count": 7,
   "id": "98cc042e-2394-491f-8a2b-eeb79818fff8",
   "metadata": {},
   "outputs": [],
   "source": [
    "best_energy['energy'] = best_energy[['energy_mine', 'energy_wdbase']].min(axis=1)"
   ]
  },
  {
   "cell_type": "code",
   "execution_count": 8,
   "id": "061d4585-892c-43e6-804a-cc56a72eb7a6",
   "metadata": {},
   "outputs": [],
   "source": [
    "best_energy.set_index('n_waters', inplace=True)"
   ]
  },
  {
   "cell_type": "code",
   "execution_count": 9,
   "id": "3e1d2fcc-bf9b-42b1-a3db-e7a9594a3dec",
   "metadata": {},
   "outputs": [],
   "source": [
    "structures['above_min'] = structures['energy'] - structures['n_waters'].apply(lambda x: best_energy.loc[x, 'energy'])"
   ]
  },
  {
   "cell_type": "markdown",
   "id": "8c033874-e116-4526-8381-94d906d5412a",
   "metadata": {},
   "source": [
    "Plot the energies of the structures"
   ]
  },
  {
   "cell_type": "code",
   "execution_count": 10,
   "id": "9d0b4de5-1145-48a1-9a71-bc48042ae5e7",
   "metadata": {},
   "outputs": [
    {
     "data": {
      "text/plain": [
       "Text(0, 0.5, '$E - E_{min}$ (kcal/mol/water)')"
      ]
     },
     "execution_count": 10,
     "metadata": {},
     "output_type": "execute_result"
    },
    {
     "data": {
      "image/png": "[encoded data removed]",
      "text/plain": [
       "<Figure size 350x250 with 1 Axes>"
      ]
     },
     "metadata": {},
     "output_type": "display_data"
    }
   ],
   "source": [
    "fig, ax = plt.subplots(figsize=(3.5, 2.5))\n",
    "\n",
    "conv = units.mol / units.kcal\n",
    "starting_new = structures.query('source != \"initial\"').index.min()\n",
    "for gid, group in structures.query('source != \"initial\"').groupby('source'):\n",
    "    ax.scatter(group.index - starting_new, group['above_min'] / group['n_waters'] * conv, label=gid, s=4)\n",
    "    \n",
    "ax.legend()\n",
    "ax.set_xlim(ax.get_xlim())\n",
    "ax.set_ylim(-1, 2)\n",
    "\n",
    "ax.plot(ax.get_xlim(), [0.0] * 2, 'k--', lw=1)\n",
    "\n",
    "ax.set_xlabel('Index')\n",
    "ax.set_ylabel('$E - E_{min}$ (kcal/mol/water)')"
   ]
  },
  {
   "cell_type": "code",
   "execution_count": null,
   "id": "24865ccf-184e-4161-aeb6-6771873147e4",
   "metadata": {},
   "outputs": [],
   "source": []
  }
 ],
 "metadata": {
  "kernelspec": {
   "display_name": "Python 3 (ipykernel)",
   "language": "python",
   "name": "python3"
  },
  "language_info": {
   "codemirror_mode": {
    "name": "ipython",
    "version": 3
   },
   "file_extension": ".py",
   "mimetype": "text/x-python",
   "name": "python",
   "nbconvert_exporter": "python",
   "pygments_lexer": "ipython3",
   "version": "3.10.8"
  }
 },
 "nbformat": 4,
 "nbformat_minor": 5
}
