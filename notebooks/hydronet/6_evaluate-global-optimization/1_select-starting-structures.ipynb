{
 "cells": [
  {
   "cell_type": "markdown",
   "id": "13f32540-fc90-410e-ac78-631ec81803f1",
   "metadata": {},
   "source": [
    "# Select Starting Structures\n",
    "Get a handfull of structures of each cluster size. Some should be the lowest energy structures.\n",
    "\n",
    "Start by downloading the ZIP file of structures from [WDBase](https://sites.uw.edu/wdbase/database-of-water-clusters/) and store it in a `wdbase` folder."
   ]
  },
  {
   "cell_type": "code",
   "execution_count": 1,
   "id": "f72282b4-f439-4073-ac8b-9eaef2c9e18e",
   "metadata": {},
   "outputs": [],
   "source": [
    "from fff.simulation.utils import read_from_string\n",
    "from more_itertools import batched\n",
    "from io import TextIOWrapper\n",
    "from zipfile import ZipFile\n",
    "from random import sample\n",
    "from pathlib import Path\n",
    "from tqdm import tqdm\n",
    "import pandas as pd"
   ]
  },
  {
   "cell_type": "markdown",
   "id": "15f5bbdf-350d-451f-9c26-48502bf39e25",
   "metadata": {},
   "source": [
    "Configuration"
   ]
  },
  {
   "cell_type": "code",
   "execution_count": 2,
   "id": "048b8205-0a3e-4f79-8232-be0ac600c5c2",
   "metadata": {},
   "outputs": [],
   "source": [
    "k: int = 4  # Number of samples to draw of each size"
   ]
  },
  {
   "cell_type": "markdown",
   "id": "1de0cec5-ab3c-4c27-b434-dbf456cae7f4",
   "metadata": {},
   "source": [
    "## Get the Structures\n",
    "For each size of water, get the top $k$ energy structures then draw $k$ randomly from those less than 5 kcal/mol above the groundstate."
   ]
  },
  {
   "cell_type": "code",
   "execution_count": 3,
   "id": "b031bf37-2b05-4565-a654-5b79ba03e0ea",
   "metadata": {},
   "outputs": [],
   "source": [
    "top_level_zip = ZipFile('wdbase/W3-W30_all_geoms_TTM2.1-F.zip')"
   ]
  },
  {
   "cell_type": "code",
   "execution_count": 4,
   "id": "68869588-da30-4220-aeb1-b8150ec5268a",
   "metadata": {},
   "outputs": [
    {
     "name": "stderr",
     "output_type": "stream",
     "text": [
      "100%|█████████████████████████████████████████████████████████████████████████████████████████████████████████████████████████████████████████████████████████████████████████████████████████████████████████████████████████████████████████████████████| 29/29 [00:29<00:00,  1.03s/it]\n"
     ]
    }
   ],
   "source": [
    "structures = []  # List of (xyz, n_waters, wdbase_index, [top|random], ttm_energy) triples\n",
    "for file in tqdm(top_level_zip.filelist):\n",
    "    # Skip directories\n",
    "    if file.is_dir(): \n",
    "        continue\n",
    "        \n",
    "    # Get the number of waters\n",
    "    n_waters = int(Path(file.filename).name.split(\"_\")[0][1:])\n",
    "    to_select_randomly = []  # Structures from which to draw random\n",
    "    best_energy = None\n",
    "    with top_level_zip.open(file) as fp:\n",
    "        # Get the best structures and all those within 5 kcal/mol of best\n",
    "        inside_zip = ZipFile(fp)  # Parse it as text\n",
    "        \n",
    "        # Read the file inside that ZIP\n",
    "        with inside_zip.open(inside_zip.filelist[0], 'r') as fpp:\n",
    "            fpp_text = TextIOWrapper(fpp)\n",
    "            for i, lines in enumerate(batched(fpp_text, n_waters * 3 + 2)):  # Over each XYZ\n",
    "                # Parse structure\n",
    "                xyz = \"\".join(lines)\n",
    "                energy = float(lines[1].split()[-1])\n",
    "                read_from_string(xyz, 'xyz')  # Make sure it parses\n",
    "                \n",
    "                # Store best energy\n",
    "                if i == 0:\n",
    "                    best_energy = energy\n",
    "                \n",
    "                # Store the top structures\n",
    "                if i < k:\n",
    "                    structures.append(\n",
    "                        (xyz, n_waters, i, 'top', energy)\n",
    "                    )\n",
    "                else:\n",
    "                    # Break if the energy is too high\n",
    "                    if energy > best_energy + 5:\n",
    "                        break\n",
    "                    to_select_randomly.append((xyz, i, energy))\n",
    "                \n",
    "\n",
    "        # Pick the random structures\n",
    "        for xyz, i, energy in sample(to_select_randomly, min(len(to_select_randomly), k)):\n",
    "            structures.append((xyz, n_waters, i, 'random', energy))"
   ]
  },
  {
   "cell_type": "markdown",
   "id": "56273099-8172-4597-849e-22bb5c682ce8",
   "metadata": {},
   "source": [
    "Save the results"
   ]
  },
  {
   "cell_type": "code",
   "execution_count": 5,
   "id": "8746610c-c151-47e6-b587-2a5fa6426c96",
   "metadata": {},
   "outputs": [],
   "source": [
    "structures = pd.DataFrame(structures, columns=['xyz', 'n_waters', 'wdbase_index', 'source', 'ttm_energy'])\n",
    "structures.sort_values(['n_waters', 'ttm_energy'], inplace=True)"
   ]
  },
  {
   "cell_type": "code",
   "execution_count": 6,
   "id": "54819ef5-07ff-474d-8614-b8a013e4b05f",
   "metadata": {},
   "outputs": [],
   "source": [
    "structures.to_csv('test-set-structures.csv', index=False)"
   ]
  },
  {
   "cell_type": "code",
   "execution_count": null,
   "id": "1815dff0-c13c-4c68-ab06-edd428820bd6",
   "metadata": {},
   "outputs": [],
   "source": []
  }
 ],
 "metadata": {
  "kernelspec": {
   "display_name": "Python 3 (ipykernel)",
   "language": "python",
   "name": "python3"
  },
  "language_info": {
   "codemirror_mode": {
    "name": "ipython",
    "version": 3
   },
   "file_extension": ".py",
   "mimetype": "text/x-python",
   "name": "python",
   "nbconvert_exporter": "python",
   "pygments_lexer": "ipython3",
   "version": "3.10.8"
  }
 },
 "nbformat": 4,
 "nbformat_minor": 5
}
