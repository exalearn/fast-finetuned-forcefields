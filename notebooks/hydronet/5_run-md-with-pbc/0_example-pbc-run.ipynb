{
 "cells": [
  {
   "cell_type": "markdown",
   "id": "c01c8ef5-176e-4f9a-8b67-339c0d5aafdc",
   "metadata": {},
   "source": [
    "# Example Run with PBC SchNet\n",
    "I'm just going to take one of our best-trained models and run it on a moderate supercell"
   ]
  },
  {
   "cell_type": "code",
   "execution_count": 1,
   "id": "86a3df9f-8dd8-485e-bb1b-9edea418f116",
   "metadata": {},
   "outputs": [
    {
     "name": "stderr",
     "output_type": "stream",
     "text": [
      "/home/lward/miniconda3/envs/fastforce/lib/python3.10/site-packages/tqdm/auto.py:22: TqdmWarning: IProgress not found. Please update jupyter and ipywidgets. See https://ipywidgets.readthedocs.io/en/stable/user_install.html\n",
      "  from .autonotebook import tqdm as notebook_tqdm\n"
     ]
    }
   ],
   "source": [
    "from fff.learning.gc.ase import SchnetCalculator\n",
    "from fff.learning.gc.models import load_pretrained_model\n",
    "from ase.build import molecule\n",
    "import numpy as np\n",
    "import torch"
   ]
  },
  {
   "cell_type": "markdown",
   "id": "60a13d53-5318-4c41-b7b4-0ed5ab62ee88",
   "metadata": {},
   "source": [
    "Configuration"
   ]
  },
  {
   "cell_type": "code",
   "execution_count": 2,
   "id": "65521444-4892-4422-8959-6ed497804882",
   "metadata": {},
   "outputs": [],
   "source": [
    "model_path = '../../colmena/initial/notebooks/prod-runs/ttm_md-25000_thr-0.001_T-300/final-model/model'  # Model and weights"
   ]
  },
  {
   "cell_type": "markdown",
   "id": "090a2668-1545-4418-99e5-dc36d24af793",
   "metadata": {},
   "source": [
    "## Make the calculator\n",
    "Load the model and give it to the ASE wrapper"
   ]
  },
  {
   "cell_type": "code",
   "execution_count": 3,
   "id": "f4e42ae0-dd15-4546-806b-0d94c320c746",
   "metadata": {},
   "outputs": [],
   "source": [
    "model = torch.load(model_path, map_location='cpu')"
   ]
  },
  {
   "cell_type": "code",
   "execution_count": 4,
   "id": "3b4f26c8-3240-43fc-ab85-0359507b7285",
   "metadata": {},
   "outputs": [],
   "source": [
    "calc = SchnetCalculator(model, device='cpu')  # I don't think we support CUDA yet"
   ]
  },
  {
   "cell_type": "markdown",
   "id": "ced1a756-7825-4239-a82b-b780250917a4",
   "metadata": {},
   "source": [
    "## Run a supercell computation\n",
    "You _must_ use a large cell. Our code assumes a cell larger than the cutoff radius for SchNet (and I haven't put in any warnings about it yet)"
   ]
  },
  {
   "cell_type": "code",
   "execution_count": 5,
   "id": "4c3ea5be-4ffc-4531-ab83-65b08fbb0110",
   "metadata": {},
   "outputs": [],
   "source": [
    "water = molecule('H2O')"
   ]
  },
  {
   "cell_type": "markdown",
   "id": "656a6c58-1332-4e31-adf9-e7e2205a6e13",
   "metadata": {},
   "source": [
    "Make the water in the center of a periodic cell"
   ]
  },
  {
   "cell_type": "code",
   "execution_count": 6,
   "id": "ce7ea328-b925-4c2e-9aa5-ae88e921aa01",
   "metadata": {},
   "outputs": [
    {
     "data": {
      "text/plain": [
       "Atoms(symbols='OH2', pbc=True, cell=[5.0, 5.0, 5.0])"
      ]
     },
     "execution_count": 6,
     "metadata": {},
     "output_type": "execute_result"
    }
   ],
   "source": [
    "water.cell = [5.] * 3\n",
    "water.pbc = True\n",
    "water"
   ]
  },
  {
   "cell_type": "markdown",
   "id": "71bd1c4e-bc07-4bb9-9259-83dc0d0917bc",
   "metadata": {},
   "source": [
    "Duplicate it big (512 waters)"
   ]
  },
  {
   "cell_type": "code",
   "execution_count": 7,
   "id": "1878f438-1548-4526-89a0-8f0a307eb124",
   "metadata": {},
   "outputs": [
    {
     "data": {
      "text/plain": [
       "Atoms(symbols='H1024O512', pbc=True, cell=[40.0, 40.0, 40.0])"
      ]
     },
     "execution_count": 7,
     "metadata": {},
     "output_type": "execute_result"
    }
   ],
   "source": [
    "water *= [8, 8, 8]\n",
    "water"
   ]
  },
  {
   "cell_type": "markdown",
   "id": "61ff6c4f-5fd6-49c6-8100-83ddb9b84370",
   "metadata": {},
   "source": [
    "See how long it takes to get forces"
   ]
  },
  {
   "cell_type": "code",
   "execution_count": 8,
   "id": "77138fc8-143e-46fc-bce5-d714b0661d07",
   "metadata": {},
   "outputs": [
    {
     "name": "stdout",
     "output_type": "stream",
     "text": [
      "CPU times: user 2.41 s, sys: 549 ms, total: 2.96 s\n",
      "Wall time: 256 ms\n"
     ]
    }
   ],
   "source": [
    "%%time\n",
    "forces = calc.get_forces(water)"
   ]
  },
  {
   "cell_type": "markdown",
   "id": "eba2572d-0a9a-485d-8121-b3091044a43f",
   "metadata": {},
   "source": [
    "Make sure the forces are identical for each water"
   ]
  },
  {
   "cell_type": "code",
   "execution_count": 9,
   "id": "5d3e9c2e-036e-424c-a6e6-68bdb07e3729",
   "metadata": {},
   "outputs": [
    {
     "name": "stdout",
     "output_type": "stream",
     "text": [
      "Maximum disagreement between forces: 4.67e-03 eV/A\n"
     ]
    }
   ],
   "source": [
    "max_diff = 0\n",
    "for start in range(0, len(water), 3):\n",
    "    max_diff = max(max_diff, np.abs(forces[:3, :] - forces[start:start+3, :]).max())\n",
    "    assert np.isclose(forces[:3, :], forces[start:start+3, :], atol=1e-2).all()\n",
    "print(f'Maximum disagreement between forces: {max_diff:.2e} eV/A')"
   ]
  },
  {
   "cell_type": "code",
   "execution_count": null,
   "id": "cccbd8d0-d06a-49b2-9793-5d85940880c4",
   "metadata": {},
   "outputs": [],
   "source": []
  }
 ],
 "metadata": {
  "kernelspec": {
   "display_name": "Python 3 (ipykernel)",
   "language": "python",
   "name": "python3"
  },
  "language_info": {
   "codemirror_mode": {
    "name": "ipython",
    "version": 3
   },
   "file_extension": ".py",
   "mimetype": "text/x-python",
   "name": "python",
   "nbconvert_exporter": "python",
   "pygments_lexer": "ipython3",
   "version": "3.10.8"
  }
 },
 "nbformat": 4,
 "nbformat_minor": 5
}
