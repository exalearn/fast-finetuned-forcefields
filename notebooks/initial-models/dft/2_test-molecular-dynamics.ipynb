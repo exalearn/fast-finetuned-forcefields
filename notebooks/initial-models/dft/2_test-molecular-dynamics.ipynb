{
 "cells": [
  {
   "cell_type": "markdown",
   "id": "dfd52e5b-d23a-4d2b-99b9-aa4a8ba85551",
   "metadata": {},
   "source": [
    "# See Whether Molecular Dynamics Works\n",
    "We want to make sure that molecular dynamics with our new model still produces reasonable structures"
   ]
  },
  {
   "cell_type": "code",
   "execution_count": 1,
   "id": "f70380a5-aa3a-47dc-9903-22ab518da43d",
   "metadata": {},
   "outputs": [
    {
     "name": "stderr",
     "output_type": "stream",
     "text": [
      "/home/lward/miniconda3/envs/fastforce/lib/python3.10/site-packages/tqdm/auto.py:22: TqdmWarning: IProgress not found. Please update jupyter and ipywidgets. See https://ipywidgets.readthedocs.io/en/stable/user_install.html\n",
      "  from .autonotebook import tqdm as notebook_tqdm\n"
     ]
    }
   ],
   "source": [
    "%matplotlib inline\n",
    "from matplotlib import pyplot as plt\n",
    "from fff.simulation import run_calculator\n",
    "from fff.sampling.md import MolecularDynamics\n",
    "from fff.learning.gc.ase import SchnetCalculator\n",
    "from ase.md.velocitydistribution import MaxwellBoltzmannDistribution\n",
    "from ase.calculators.psi4 import Psi4\n",
    "from ase.db import connect\n",
    "from tqdm import tqdm\n",
    "import numpy as np\n",
    "import warnings\n",
    "import torch"
   ]
  },
  {
   "cell_type": "markdown",
   "id": "32477e5e-3610-435e-b9a2-2ec891e98082",
   "metadata": {},
   "source": [
    "Configure the DFT methods"
   ]
  },
  {
   "cell_type": "code",
   "execution_count": 2,
   "id": "b3204196-bf4b-4612-a500-87083ddc158c",
   "metadata": {},
   "outputs": [],
   "source": [
    "dft_kwargs = dict(method='pbe0-d3', basis='aug-cc-pvdz')"
   ]
  },
  {
   "cell_type": "markdown",
   "id": "c142ae5c-117a-4bae-852b-721d02929c0a",
   "metadata": {},
   "source": [
    "## Get a starting structure\n",
    "Just a random structure to start with"
   ]
  },
  {
   "cell_type": "code",
   "execution_count": 3,
   "id": "5d53a2a1-1986-4c87-90b5-b5f8399fee91",
   "metadata": {},
   "outputs": [
    {
     "data": {
      "text/plain": [
       "Atoms(symbols='OH2OH2OH2OH2OH2OH2OH2OH2OH2', pbc=False, calculator=SinglePointCalculator(...))"
      ]
     },
     "execution_count": 3,
     "metadata": {},
     "output_type": "execute_result"
    }
   ],
   "source": [
    "with connect('initial-database.db') as db:\n",
    "    atoms = next(db.select('natoms>16', limit=1)).toatoms()\n",
    "atoms"
   ]
  },
  {
   "cell_type": "markdown",
   "id": "1d5788d7-8b1d-4913-9878-893524e4d810",
   "metadata": {},
   "source": [
    "## Make the SchNet and Psi4 Calculators\n",
    "We're going to compare their performance"
   ]
  },
  {
   "cell_type": "code",
   "execution_count": 4,
   "id": "396f15f4-5e6c-453c-97be-42a540030c52",
   "metadata": {},
   "outputs": [
    {
     "name": "stdout",
     "output_type": "stream",
     "text": [
      "  Threads set to 12 by Python driver.\n",
      "  Threads set to 12 by Python driver.\n"
     ]
    },
    {
     "name": "stderr",
     "output_type": "stream",
     "text": [
      "/home/lward/miniconda3/envs/fastforce/lib/python3.10/site-packages/psi4/driver/procrouting/empirical_dispersion.py:212: FutureWarning: Using the `local_options` keyword argument is deprecated in favor of using `task_config`, in version 0.30.0 it will stop working.\n",
      "  jobrec = qcng.compute(\n"
     ]
    },
    {
     "name": "stdout",
     "output_type": "stream",
     "text": [
      "CPU times: user 3min 6s, sys: 3.33 s, total: 3min 9s\n",
      "Wall time: 18.2 s\n"
     ]
    }
   ],
   "source": [
    "%%time\n",
    "psi4_calc = Psi4(**dft_kwargs, num_threads=12)\n",
    "psi4_eng = psi4_calc.get_potential_energy(atoms)"
   ]
  },
  {
   "cell_type": "code",
   "execution_count": 5,
   "id": "79c07b29-0566-4d4f-8f29-49acc75fc482",
   "metadata": {},
   "outputs": [],
   "source": [
    "with open('tuned/model', 'rb') as fp:\n",
    "    model = torch.load(fp, map_location='cpu').get_model()\n",
    "ml_calc = SchnetCalculator(model)\n",
    "ml_eng = ml_calc.get_potential_energy(atoms)"
   ]
  },
  {
   "cell_type": "code",
   "execution_count": 6,
   "id": "2a06c836-e913-465c-bd64-0bd6a22405f1",
   "metadata": {},
   "outputs": [
    {
     "name": "stdout",
     "output_type": "stream",
     "text": [
      "Energy of starting geom - Psi4: -18703.9, SchNet: -18703.9 eV. Error: 75.1 meV\n"
     ]
    }
   ],
   "source": [
    "print(f'Energy of starting geom - Psi4: {psi4_eng:.1f}, SchNet: {ml_eng:.1f} eV. Error: {(psi4_eng - ml_eng) * 1000:.1f} meV')"
   ]
  },
  {
   "cell_type": "markdown",
   "id": "3faa8d39-1665-4e56-8035-cc7c35192aa7",
   "metadata": {},
   "source": [
    "Off by a few meV, which is pretty good"
   ]
  },
  {
   "cell_type": "markdown",
   "id": "f344def6-12c2-44b7-944d-bc5e8db09891",
   "metadata": {},
   "source": [
    "## Check whether MD with the SchNet Model produces reasonable structures\n",
    "The energies don't have to be accurate, it just has to make reasonable structures"
   ]
  },
  {
   "cell_type": "code",
   "execution_count": 12,
   "id": "3b7458e2-5834-4dba-bb6a-d66a4e335f1b",
   "metadata": {},
   "outputs": [
    {
     "name": "stdout",
     "output_type": "stream",
     "text": [
      "CPU times: user 10min 50s, sys: 7.62 s, total: 10min 58s\n",
      "Wall time: 54.9 s\n"
     ]
    }
   ],
   "source": [
    "%%time\n",
    "MaxwellBoltzmannDistribution(atoms, temperature_K=100)\n",
    "_, traj = MolecularDynamics().run_sampling(atoms, 10000, ml_calc, timestep=0.1, log_interval=500)"
   ]
  },
  {
   "cell_type": "markdown",
   "id": "28cb8552-ecf3-447c-9af7-d1ca665b50ca",
   "metadata": {},
   "source": [
    "Get the energies using Psi4"
   ]
  },
  {
   "cell_type": "code",
   "execution_count": 14,
   "id": "bcb6fb65-1e8a-483b-91a9-fd2c4432f0b7",
   "metadata": {},
   "outputs": [
    {
     "name": "stdout",
     "output_type": "stream",
     "text": [
      "CPU times: user 2.19 ms, sys: 29 µs, total: 2.21 ms\n",
      "Wall time: 2.09 ms\n"
     ]
    }
   ],
   "source": [
    "%%time\n",
    "spk_energies = [a.get_potential_energy() for a in traj]"
   ]
  },
  {
   "cell_type": "code",
   "execution_count": 15,
   "id": "2b0f2daa-4bef-4cc8-8535-df5624317ccd",
   "metadata": {},
   "outputs": [
    {
     "name": "stderr",
     "output_type": "stream",
     "text": [
      "100%|█████████████████████████████████████████████████████████████████████████████████████████████████████████████████████████████████████████████████████████████████████████| 19/19 [05:41<00:00, 17.96s/it]\n"
     ]
    }
   ],
   "source": [
    "psi4_energies = []\n",
    "with warnings.catch_warnings():\n",
    "    warnings.simplefilter('ignore')\n",
    "    for a in tqdm(traj):\n",
    "        try:\n",
    "            psi4_eng = psi4_calc.get_potential_energy(a)\n",
    "        except BaseException:\n",
    "            psi4_eng = np.nan\n",
    "        psi4_energies.append(psi4_eng)"
   ]
  },
  {
   "cell_type": "code",
   "execution_count": 16,
   "id": "568fa316-f6db-40e3-bdcd-3295c8fc0d4b",
   "metadata": {},
   "outputs": [
    {
     "data": {
      "image/png": "[encoded data removed]",
      "text/plain": [
       "<Figure size 350x250 with 1 Axes>"
      ]
     },
     "metadata": {},
     "output_type": "display_data"
    }
   ],
   "source": [
    "fig, ax = plt.subplots(figsize=(3.5, 2.5))\n",
    "\n",
    "# Plot them normalized such that they start the same\n",
    "ax.plot(np.subtract(spk_energies, psi4_energies[0]) / len(atoms), 'k--', label='ML')\n",
    "ax.plot(np.subtract(psi4_energies, psi4_energies[0]) / len(atoms), 'r-', label='DFT')\n",
    "\n",
    "ax.set_ylim(-0.5, 0.5)\n",
    "\n",
    "ax.set_xlabel('Image')\n",
    "ax.set_ylabel('Energy (eV/atom)')\n",
    "\n",
    "ax.legend()\n",
    "fig.tight_layout()"
   ]
  },
  {
   "cell_type": "markdown",
   "id": "bc1b70de-795b-429d-b636-35d316cb0dff",
   "metadata": {},
   "source": [
    "We start off with pretty similar energies, but they rapidly diverge. Molecular dynamics seemed to have found a spurious minimum! That'll be something we fix with active learning"
   ]
  },
  {
   "cell_type": "code",
   "execution_count": null,
   "id": "b560b7fc-bbd3-4152-8649-19d24ec1fbb9",
   "metadata": {},
   "outputs": [],
   "source": []
  }
 ],
 "metadata": {
  "kernelspec": {
   "display_name": "Python 3 (ipykernel)",
   "language": "python",
   "name": "python3"
  },
  "language_info": {
   "codemirror_mode": {
    "name": "ipython",
    "version": 3
   },
   "file_extension": ".py",
   "mimetype": "text/x-python",
   "name": "python",
   "nbconvert_exporter": "python",
   "pygments_lexer": "ipython3",
   "version": "3.10.8"
  }
 },
 "nbformat": 4,
 "nbformat_minor": 5
}
