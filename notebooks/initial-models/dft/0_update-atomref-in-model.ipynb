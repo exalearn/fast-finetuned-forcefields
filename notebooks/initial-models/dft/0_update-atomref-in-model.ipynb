{
 "cells": [
  {
   "cell_type": "markdown",
   "id": "babd0081-6295-4618-9f5d-634cb0aeee6a",
   "metadata": {},
   "source": [
    "# Reset the Mean Layers\n",
    "Our implementation of SchNet does not use atomrefs, but that is equivalent to normalizing by mean given"
   ]
  },
  {
   "cell_type": "code",
   "execution_count": 1,
   "id": "393e7512-adb0-4677-80a5-8b56cca5ce63",
   "metadata": {},
   "outputs": [
    {
     "name": "stderr",
     "output_type": "stream",
     "text": [
      "/home/lward/miniconda3/envs/fastforce/lib/python3.10/site-packages/tqdm/auto.py:22: TqdmWarning: IProgress not found. Please update jupyter and ipywidgets. See https://ipywidgets.readthedocs.io/en/stable/user_install.html\n",
      "  from .autonotebook import tqdm as notebook_tqdm\n"
     ]
    }
   ],
   "source": [
    "from fff.learning.gc.ase import SchnetCalculator\n",
    "from fff.learning.gc.models import load_pretrained_model\n",
    "from ase.calculators.psi4 import Psi4\n",
    "from ase.db import connect\n",
    "from ase import Atoms, units, build\n",
    "import numpy as np\n",
    "import torch"
   ]
  },
  {
   "cell_type": "markdown",
   "id": "c2acc68f-aa37-4a90-8244-131891911d6c",
   "metadata": {},
   "source": [
    "Configuration"
   ]
  },
  {
   "cell_type": "code",
   "execution_count": 2,
   "id": "604c609b-7c2d-4bd6-b72c-6dc6c176f8a0",
   "metadata": {},
   "outputs": [],
   "source": [
    "multiplicity = {'H': 2, 'He': 1, 'Li': 2, 'C': 3, 'N': 4, 'O': 3, 'F': 2, 'Si': 3, 'P': 4, 'S': 3, 'Cl': 2, 'Br': 2}"
   ]
  },
  {
   "cell_type": "markdown",
   "id": "e1dc1616-4cd4-4ebc-920e-40ad03af09b4",
   "metadata": {},
   "source": [
    "## Load in the model\n",
    "We're going to get it in its present state"
   ]
  },
  {
   "cell_type": "code",
   "execution_count": 3,
   "id": "ab790a20-48bf-4507-8882-0587e23246f3",
   "metadata": {},
   "outputs": [],
   "source": [
    "model = load_pretrained_model('../starting-weights/finetune_ttm_alstep_023.pt', std=units.kcal / units.mol, mean=0)"
   ]
  },
  {
   "cell_type": "markdown",
   "id": "29ddf824-c50c-4e51-8f73-9c3c5afdbb9e",
   "metadata": {},
   "source": [
    "## Make a calculator to show how poorly it works\n",
    "We should be off by a large constant factor"
   ]
  },
  {
   "cell_type": "code",
   "execution_count": 4,
   "id": "e64dd77c-e954-4364-bf2e-7947146375e0",
   "metadata": {},
   "outputs": [],
   "source": [
    "water = build.molecule('H2O')\n",
    "methane = build.molecule('CH4')"
   ]
  },
  {
   "cell_type": "code",
   "execution_count": 5,
   "id": "c48a5b10-88a4-403f-b74d-587071d7eb12",
   "metadata": {},
   "outputs": [
    {
     "name": "stdout",
     "output_type": "stream",
     "text": [
      "  Threads set to 1 by Python driver.\n",
      "  Threads set to 1 by Python driver.\n"
     ]
    },
    {
     "name": "stderr",
     "output_type": "stream",
     "text": [
      "/home/lward/miniconda3/envs/fastforce/lib/python3.10/site-packages/psi4/driver/procrouting/empirical_dispersion.py:212: FutureWarning: Using the `local_options` keyword argument is deprecated in favor of using `task_config`, in version 0.30.0 it will stop working.\n",
      "  jobrec = qcng.compute(\n",
      "/home/lward/miniconda3/envs/fastforce/lib/python3.10/site-packages/psi4/driver/procrouting/empirical_dispersion.py:212: FutureWarning: Using the `local_options` keyword argument is deprecated in favor of using `task_config`, in version 0.30.0 it will stop working.\n",
      "  jobrec = qcng.compute(\n"
     ]
    }
   ],
   "source": [
    "psi4_eng_h2o = Psi4(method='pbe0-d3', basis='aug-cc-pvdz').get_potential_energy(water)\n",
    "psi4_eng_ch4 = Psi4(method='pbe0-d3', basis='aug-cc-pvdz').get_potential_energy(methane)"
   ]
  },
  {
   "cell_type": "code",
   "execution_count": 6,
   "id": "cbfa47c1-6003-4606-944c-0b023412bc34",
   "metadata": {},
   "outputs": [],
   "source": [
    "spk_calc = SchnetCalculator(model, 'cpu')\n",
    "spk_eng_h2o = spk_calc.get_potential_energy(water)\n",
    "spk_eng_ch4 = spk_calc.get_potential_energy(methane)"
   ]
  },
  {
   "cell_type": "code",
   "execution_count": 7,
   "id": "e2b41a7d-b2c6-41c6-a87a-0e7b5e3eb530",
   "metadata": {},
   "outputs": [
    {
     "name": "stdout",
     "output_type": "stream",
     "text": [
      "Energy of water - Psi4: -2077.86 eV, SchNet -0.00 eV\n",
      "Energy of methane - Psi4: -1100.98 eV, SchNet 2.45 eV\n"
     ]
    }
   ],
   "source": [
    "print(f'Energy of water - Psi4: {psi4_eng_h2o:.2f} eV, SchNet {spk_eng_h2o:.2f} eV')\n",
    "print(f'Energy of methane - Psi4: {psi4_eng_ch4:.2f} eV, SchNet {spk_eng_ch4:.2f} eV')"
   ]
  },
  {
   "cell_type": "markdown",
   "id": "82a8206d-6332-45ff-b22c-886855b3ea13",
   "metadata": {},
   "source": [
    "We're very off. TTM does not have a \"per-atom energy\" but DFT does"
   ]
  },
  {
   "cell_type": "markdown",
   "id": "dafb66cd-f9e6-44d5-96b4-a5ecb3c36df7",
   "metadata": {},
   "source": [
    "## Get the isolated atom energies\n",
    "Used to normalize the energies of SchNetPack models"
   ]
  },
  {
   "cell_type": "code",
   "execution_count": 8,
   "id": "dae35bf8-8297-4062-b830-b0c0f2834e73",
   "metadata": {},
   "outputs": [],
   "source": [
    "isolated_eng = {}\n",
    "for elem, ind in multiplicity.items():\n",
    "    atoms = Atoms(symbols=[elem], positions=[[0,0,0]])\n",
    "    psi4 = Psi4(atoms=atoms,\n",
    "                method='pbe0', basis='aug-cc-pvdz', \n",
    "                reference='uhf',\n",
    "                multiplicity=multiplicity[elem])   \n",
    "    atoms.set_calculator(psi4)\n",
    "    isolated_eng[atoms.get_atomic_numbers()[0]] = atoms.get_potential_energy()"
   ]
  },
  {
   "cell_type": "markdown",
   "id": "9f87453b-fe3b-4f6c-bcc4-cb1e2872ffe6",
   "metadata": {},
   "source": [
    "## Update these values in the network\n",
    "The atomrefs are stored as an \"Embedding\" layer, which we can update manually"
   ]
  },
  {
   "cell_type": "code",
   "execution_count": 9,
   "id": "296d760f-7b9b-43fd-a9ec-db1f22cbf015",
   "metadata": {},
   "outputs": [],
   "source": [
    "with torch.no_grad():\n",
    "    for z, val in isolated_eng.items():\n",
    "        model.atom_ref.weight[z] = val"
   ]
  },
  {
   "cell_type": "code",
   "execution_count": 10,
   "id": "d6d95564-5432-4d7e-ab07-2583d48c26f7",
   "metadata": {},
   "outputs": [],
   "source": [
    "spk_calc = SchnetCalculator(model, 'cpu')\n",
    "spk_eng_h2o = spk_calc.get_potential_energy(water)\n",
    "spk_eng_ch4 = spk_calc.get_potential_energy(methane)"
   ]
  },
  {
   "cell_type": "code",
   "execution_count": 11,
   "id": "76ab87e9-4666-447a-b16c-806e4890b312",
   "metadata": {},
   "outputs": [
    {
     "name": "stdout",
     "output_type": "stream",
     "text": [
      "Energy of water - Psi4: -2077.86 eV, SchNet -2068.11 eV\n",
      "Energy of methane - Psi4: -1100.98 eV, SchNet -1080.65 eV\n"
     ]
    }
   ],
   "source": [
    "print(f'Energy of water - Psi4: {psi4_eng_h2o:.2f} eV, SchNet {spk_eng_h2o:.2f} eV')\n",
    "print(f'Energy of methane - Psi4: {psi4_eng_ch4:.2f} eV, SchNet {spk_eng_ch4:.2f} eV')"
   ]
  },
  {
   "cell_type": "markdown",
   "id": "869988be-a57b-4d46-979c-cf17a88a6d22",
   "metadata": {},
   "source": [
    "Much closer, but not quite. The original TTM potential has the energy of an isolated water as 0, which is (as we see here) non-zero in DFT.\n",
    "\n",
    "We are going to correct for the absence of bond energies by updating the atom refs of O and C. These atoms only appear bonded to H, so this is will make the molecules correct. This will break if we have molecules besides water or methane, but it is OK for now."
   ]
  },
  {
   "cell_type": "code",
   "execution_count": 12,
   "id": "a124fc93-5aef-4a16-8ce1-6f6a96e178e0",
   "metadata": {},
   "outputs": [],
   "source": [
    "per_water_diff = (psi4_eng_h2o - spk_eng_h2o)\n",
    "per_methane_diff = (psi4_eng_ch4 - spk_eng_ch4)"
   ]
  },
  {
   "cell_type": "code",
   "execution_count": 13,
   "id": "76701524-7311-48da-a105-9223e8348a6c",
   "metadata": {},
   "outputs": [],
   "source": [
    "with torch.no_grad():\n",
    "    model.atom_ref.weight[8] += per_water_diff\n",
    "    model.atom_ref.weight[6] += per_methane_diff"
   ]
  },
  {
   "cell_type": "code",
   "execution_count": 14,
   "id": "e06949a9-7d10-42f6-863a-b4de363b7ae7",
   "metadata": {},
   "outputs": [],
   "source": [
    "spk_calc = SchnetCalculator(model, 'cpu')\n",
    "spk_eng_h2o = spk_calc.get_potential_energy(water)\n",
    "spk_eng_ch4 = spk_calc.get_potential_energy(methane)"
   ]
  },
  {
   "cell_type": "code",
   "execution_count": 15,
   "id": "ad500310-5698-4028-88f1-c8e10f16c7f2",
   "metadata": {},
   "outputs": [
    {
     "name": "stdout",
     "output_type": "stream",
     "text": [
      "Energy of water - Psi4: -2077.86 eV, SchNet -2077.86 eV\n",
      "Energy of methane - Psi4: -1100.98 eV, SchNet -1100.98 eV\n"
     ]
    }
   ],
   "source": [
    "print(f'Energy of water - Psi4: {psi4_eng_h2o:.2f} eV, SchNet {spk_eng_h2o:.2f} eV')\n",
    "print(f'Energy of methane - Psi4: {psi4_eng_ch4:.2f} eV, SchNet {spk_eng_ch4:.2f} eV')"
   ]
  },
  {
   "cell_type": "markdown",
   "id": "96dff998-5a4f-4e1c-93e7-03e4dda1deeb",
   "metadata": {},
   "source": [
    "We're now right on, by definition. "
   ]
  },
  {
   "cell_type": "markdown",
   "id": "a1398253-01b4-4a39-9f8f-8f58f4cc7627",
   "metadata": {},
   "source": [
    "## Save Updated Model\n",
    "For us to use later"
   ]
  },
  {
   "cell_type": "code",
   "execution_count": 16,
   "id": "c0bdaef1-6198-4aba-8f25-beee8f0b6fc2",
   "metadata": {},
   "outputs": [],
   "source": [
    "torch.save(model, 'starting-model')"
   ]
  },
  {
   "cell_type": "code",
   "execution_count": null,
   "id": "e18f36a6-1936-43fd-903b-585dbefbe6d7",
   "metadata": {},
   "outputs": [],
   "source": []
  }
 ],
 "metadata": {
  "kernelspec": {
   "display_name": "Python 3 (ipykernel)",
   "language": "python",
   "name": "python3"
  },
  "language_info": {
   "codemirror_mode": {
    "name": "ipython",
    "version": 3
   },
   "file_extension": ".py",
   "mimetype": "text/x-python",
   "name": "python",
   "nbconvert_exporter": "python",
   "pygments_lexer": "ipython3",
   "version": "3.10.8"
  }
 },
 "nbformat": 4,
 "nbformat_minor": 5
}
