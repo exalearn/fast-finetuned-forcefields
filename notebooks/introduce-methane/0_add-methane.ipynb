{
 "cells": [
  {
   "cell_type": "markdown",
   "id": "0b151fc4-2e18-4dc9-bd46-c45927957b86",
   "metadata": {},
   "source": [
    "# Add Methane into a Cluster\n",
    "Take a water in the middle and make it methane!"
   ]
  },
  {
   "cell_type": "code",
   "execution_count": 1,
   "id": "9078ab2f-4d34-4aef-afa1-522307f16c96",
   "metadata": {},
   "outputs": [],
   "source": [
    "from ase.io import read\n",
    "from ase.db import connect\n",
    "from ase.build import molecule\n",
    "from random import sample\n",
    "import numpy as np"
   ]
  },
  {
   "cell_type": "markdown",
   "id": "42788b3e-6d8b-4bdb-b274-a0d46490fe8c",
   "metadata": {},
   "source": [
    "Configuration"
   ]
  },
  {
   "cell_type": "code",
   "execution_count": 2,
   "id": "3e48070e-bcc5-4479-b53e-b2d125b96dbe",
   "metadata": {},
   "outputs": [],
   "source": [
    "number_to_make = 128"
   ]
  },
  {
   "cell_type": "markdown",
   "id": "3ddd90f7-05e6-4393-910a-e60a422a8f80",
   "metadata": {},
   "source": [
    "## Load in Some Clusters\n",
    "Get all of the clusters we used for training"
   ]
  },
  {
   "cell_type": "code",
   "execution_count": 3,
   "id": "c93ad988-33a3-4152-b4f5-0ab30db84b96",
   "metadata": {},
   "outputs": [
    {
     "name": "stdout",
     "output_type": "stream",
     "text": [
      "Loaded 1720 water clusters\n"
     ]
    }
   ],
   "source": [
    "with connect('../initial-database/initial-ttm.db') as db:\n",
    "    water_clusters = []\n",
    "    for row in db.select():\n",
    "        atoms = row.toatoms()\n",
    "        atoms.info['filename'] = row.filename\n",
    "        water_clusters.append(atoms)\n",
    "print(f'Loaded {len(water_clusters)} water clusters')"
   ]
  },
  {
   "cell_type": "markdown",
   "id": "f5efdd35-048d-4ece-b5c6-738a99101d60",
   "metadata": {},
   "source": [
    "## Make a Function to do the \n",
    "We're going to take a water in the middle and make it a methane"
   ]
  },
  {
   "cell_type": "code",
   "execution_count": 4,
   "id": "fe8956ea-4ef1-44fd-b0c3-1ca3d8b5e363",
   "metadata": {},
   "outputs": [],
   "source": [
    "def replace_inner_water(atoms):\n",
    "    \"\"\"Replace the centermost water in a structure with a methane\n",
    "    \n",
    "    Args:\n",
    "        atoms: Structure to alter\n",
    "    Returns:\n",
    "        A structure that now includes a water\n",
    "    \"\"\"\n",
    "    \n",
    "    # Create a copy\n",
    "    atoms = atoms.copy()\n",
    "    \n",
    "    # Find the water closest to the center of mass\n",
    "    center_O = np.linalg.norm(atoms.positions[::3] - atoms.get_center_of_mass(), axis=1).argmin()\n",
    "\n",
    "    # Delete that water\n",
    "    center_O *= 3 \n",
    "    center_pos = atoms.positions[center_O]\n",
    "    del atoms[center_O:center_O + 3]  # Next two atoms are its waters\n",
    "    assert atoms.get_chemical_formula(empirical=True) == 'H2O'\n",
    "\n",
    "    # Add in a methane at that position instead\n",
    "\n",
    "    methane = molecule('CH4')\n",
    "    methane.set_center_of_mass(center_pos)\n",
    "    new_strc = atoms + methane\n",
    "    new_strc.info = atoms.info\n",
    "\n",
    "    # Quality check: No overlapping atoms\n",
    "    dists = new_strc.get_all_distances()\n",
    "    assert dists[np.triu_indices_from(dists, k=1)].min() > 0.5\n",
    "    \n",
    "    return new_strc"
   ]
  },
  {
   "cell_type": "code",
   "execution_count": 5,
   "id": "ebf0f107-2aef-4af4-add7-50342c7c4918",
   "metadata": {},
   "outputs": [
    {
     "data": {
      "text/plain": [
       "Atoms(symbols='OH2OH2OH2OH2OH2OH2OH2OH2OH2OH2CH4', pbc=False)"
      ]
     },
     "execution_count": 5,
     "metadata": {},
     "output_type": "execute_result"
    }
   ],
   "source": [
    "replace_inner_water(water_clusters[0])"
   ]
  },
  {
   "cell_type": "markdown",
   "id": "eb15c98f-f20f-4ce2-a2ab-1ac265db8760",
   "metadata": {},
   "source": [
    "## Make a bunch of them\n",
    "Give our algorithms a good place to start"
   ]
  },
  {
   "cell_type": "code",
   "execution_count": 6,
   "id": "ddd2baa7-a9f0-421b-a5eb-190776d8bed7",
   "metadata": {},
   "outputs": [],
   "source": [
    "to_replace = sample(water_clusters, number_to_make)"
   ]
  },
  {
   "cell_type": "code",
   "execution_count": 7,
   "id": "5c606a19-6be8-4c73-8620-527f50fe2b54",
   "metadata": {},
   "outputs": [],
   "source": [
    "with connect('methane-added.db', append=False) as db:\n",
    "    for a in to_replace:\n",
    "        atoms = replace_inner_water(a)\n",
    "        db.write(atoms, **atoms.info)"
   ]
  },
  {
   "cell_type": "code",
   "execution_count": null,
   "id": "22797224-0bad-48f2-a6b2-c9df1031e4c7",
   "metadata": {},
   "outputs": [],
   "source": []
  }
 ],
 "metadata": {
  "kernelspec": {
   "display_name": "Python 3 (ipykernel)",
   "language": "python",
   "name": "python3"
  },
  "language_info": {
   "codemirror_mode": {
    "name": "ipython",
    "version": 3
   },
   "file_extension": ".py",
   "mimetype": "text/x-python",
   "name": "python",
   "nbconvert_exporter": "python",
   "pygments_lexer": "ipython3",
   "version": "3.10.8"
  }
 },
 "nbformat": 4,
 "nbformat_minor": 5
}
